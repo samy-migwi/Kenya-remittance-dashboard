{
 "cells": [
  {
   "cell_type": "code",
   "execution_count": 1,
   "id": "fdcc95f0",
   "metadata": {},
   "outputs": [],
   "source": [
    "#this is notebook for dashboard preparation"
   ]
  },
  {
   "cell_type": "code",
   "execution_count": 2,
   "id": "e61421e4",
   "metadata": {},
   "outputs": [],
   "source": [
    "import pandas as pd"
   ]
  },
  {
   "cell_type": "code",
   "execution_count": 3,
   "id": "2e7b291a",
   "metadata": {},
   "outputs": [],
   "source": [
    "df=pd.read_csv(r\"C:\\Users\\KMC\\Desktop\\ds\\remitances\\Kenya-remittance-dashboard\\apr25.csv\")\n",
    "dt=pd.read_csv(r\"C:\\Users\\KMC\\Desktop\\ds\\remitances\\Kenya-remittance-dashboard\\region_apr25.csv\")"
   ]
  },
  {
   "cell_type": "code",
   "execution_count": 4,
   "id": "7d21b718",
   "metadata": {},
   "outputs": [
    {
     "data": {
      "text/html": [
       "<div>\n",
       "<style scoped>\n",
       "    .dataframe tbody tr th:only-of-type {\n",
       "        vertical-align: middle;\n",
       "    }\n",
       "\n",
       "    .dataframe tbody tr th {\n",
       "        vertical-align: top;\n",
       "    }\n",
       "\n",
       "    .dataframe thead th {\n",
       "        text-align: right;\n",
       "    }\n",
       "</style>\n",
       "<table border=\"1\" class=\"dataframe\">\n",
       "  <thead>\n",
       "    <tr style=\"text-align: right;\">\n",
       "      <th></th>\n",
       "      <th>Region/Country</th>\n",
       "      <th>Jan_20</th>\n",
       "      <th>Feb_20</th>\n",
       "      <th>Mar_20</th>\n",
       "      <th>Apr_20</th>\n",
       "      <th>May_20</th>\n",
       "      <th>Jun_20</th>\n",
       "      <th>Jul_20</th>\n",
       "      <th>Aug_20</th>\n",
       "      <th>Sep_20</th>\n",
       "      <th>...</th>\n",
       "      <th>Jul_24</th>\n",
       "      <th>Aug_24</th>\n",
       "      <th>Sep_24</th>\n",
       "      <th>Oct_24</th>\n",
       "      <th>Nov_24</th>\n",
       "      <th>Dec_24</th>\n",
       "      <th>Jan_25</th>\n",
       "      <th>Feb_25</th>\n",
       "      <th>Mar_25</th>\n",
       "      <th>Apr_25</th>\n",
       "    </tr>\n",
       "  </thead>\n",
       "  <tbody>\n",
       "    <tr>\n",
       "      <th>0</th>\n",
       "      <td>U.S.A</td>\n",
       "      <td>116995.24</td>\n",
       "      <td>105295.76</td>\n",
       "      <td>118274.29853</td>\n",
       "      <td>118681.16</td>\n",
       "      <td>139986.39</td>\n",
       "      <td>142623.41</td>\n",
       "      <td>135880.90</td>\n",
       "      <td>155515.70</td>\n",
       "      <td>155714.0094</td>\n",
       "      <td>...</td>\n",
       "      <td>216602.950928</td>\n",
       "      <td>237719.281174</td>\n",
       "      <td>231710.097297</td>\n",
       "      <td>234680.466143</td>\n",
       "      <td>225999.395803</td>\n",
       "      <td>231292.303217</td>\n",
       "      <td>227502.646639</td>\n",
       "      <td>202244.544226</td>\n",
       "      <td>222725.939387</td>\n",
       "      <td>235891.383369</td>\n",
       "    </tr>\n",
       "    <tr>\n",
       "      <th>1</th>\n",
       "      <td>Canada</td>\n",
       "      <td>3393.74</td>\n",
       "      <td>2893.70</td>\n",
       "      <td>2663.70411</td>\n",
       "      <td>3287.35</td>\n",
       "      <td>4242.15</td>\n",
       "      <td>4049.55</td>\n",
       "      <td>4823.25</td>\n",
       "      <td>3700.75</td>\n",
       "      <td>8444.3400</td>\n",
       "      <td>...</td>\n",
       "      <td>10119.840874</td>\n",
       "      <td>11302.312962</td>\n",
       "      <td>10893.769084</td>\n",
       "      <td>12113.340206</td>\n",
       "      <td>13023.192993</td>\n",
       "      <td>12380.172400</td>\n",
       "      <td>12935.612101</td>\n",
       "      <td>11634.557040</td>\n",
       "      <td>13658.727087</td>\n",
       "      <td>14181.096989</td>\n",
       "    </tr>\n",
       "    <tr>\n",
       "      <th>2</th>\n",
       "      <td>Bahamas</td>\n",
       "      <td>539.73</td>\n",
       "      <td>421.88</td>\n",
       "      <td>424.68000</td>\n",
       "      <td>0.00</td>\n",
       "      <td>36.89</td>\n",
       "      <td>56.20</td>\n",
       "      <td>75.96</td>\n",
       "      <td>4.22</td>\n",
       "      <td>8.7200</td>\n",
       "      <td>...</td>\n",
       "      <td>87.982868</td>\n",
       "      <td>83.414864</td>\n",
       "      <td>55.765305</td>\n",
       "      <td>57.648672</td>\n",
       "      <td>311.345020</td>\n",
       "      <td>167.577619</td>\n",
       "      <td>218.694172</td>\n",
       "      <td>37.075016</td>\n",
       "      <td>66.271217</td>\n",
       "      <td>182.165617</td>\n",
       "    </tr>\n",
       "    <tr>\n",
       "      <th>3</th>\n",
       "      <td>United Kingdom</td>\n",
       "      <td>21190.00</td>\n",
       "      <td>17567.83</td>\n",
       "      <td>18778.69654</td>\n",
       "      <td>16191.04</td>\n",
       "      <td>18911.83</td>\n",
       "      <td>19120.09</td>\n",
       "      <td>22901.20</td>\n",
       "      <td>20640.05</td>\n",
       "      <td>16412.6800</td>\n",
       "      <td>...</td>\n",
       "      <td>30209.461107</td>\n",
       "      <td>27047.849975</td>\n",
       "      <td>29875.453114</td>\n",
       "      <td>28537.906464</td>\n",
       "      <td>29281.072794</td>\n",
       "      <td>29223.757179</td>\n",
       "      <td>25318.709148</td>\n",
       "      <td>25734.620536</td>\n",
       "      <td>27357.190860</td>\n",
       "      <td>26608.281524</td>\n",
       "    </tr>\n",
       "    <tr>\n",
       "      <th>4</th>\n",
       "      <td>Germany</td>\n",
       "      <td>6963.54</td>\n",
       "      <td>6156.28</td>\n",
       "      <td>6774.23513</td>\n",
       "      <td>6246.75</td>\n",
       "      <td>6960.64</td>\n",
       "      <td>7308.30</td>\n",
       "      <td>7579.67</td>\n",
       "      <td>7210.99</td>\n",
       "      <td>6607.1800</td>\n",
       "      <td>...</td>\n",
       "      <td>15955.460131</td>\n",
       "      <td>15779.506155</td>\n",
       "      <td>15072.801816</td>\n",
       "      <td>15967.945051</td>\n",
       "      <td>15534.639676</td>\n",
       "      <td>15835.925065</td>\n",
       "      <td>15705.559737</td>\n",
       "      <td>14812.644306</td>\n",
       "      <td>16006.266780</td>\n",
       "      <td>16373.069494</td>\n",
       "    </tr>\n",
       "  </tbody>\n",
       "</table>\n",
       "<p>5 rows × 65 columns</p>\n",
       "</div>"
      ],
      "text/plain": [
       "        Region/Country     Jan_20     Feb_20        Mar_20     Apr_20  \\\n",
       "0                U.S.A  116995.24  105295.76  118274.29853  118681.16   \n",
       "1               Canada    3393.74    2893.70    2663.70411    3287.35   \n",
       "2              Bahamas     539.73     421.88     424.68000       0.00   \n",
       "3       United Kingdom   21190.00   17567.83   18778.69654   16191.04   \n",
       "4              Germany    6963.54    6156.28    6774.23513    6246.75   \n",
       "\n",
       "      May_20     Jun_20     Jul_20     Aug_20       Sep_20  ...  \\\n",
       "0  139986.39  142623.41  135880.90  155515.70  155714.0094  ...   \n",
       "1    4242.15    4049.55    4823.25    3700.75    8444.3400  ...   \n",
       "2      36.89      56.20      75.96       4.22       8.7200  ...   \n",
       "3   18911.83   19120.09   22901.20   20640.05   16412.6800  ...   \n",
       "4    6960.64    7308.30    7579.67    7210.99    6607.1800  ...   \n",
       "\n",
       "          Jul_24         Aug_24         Sep_24         Oct_24         Nov_24  \\\n",
       "0  216602.950928  237719.281174  231710.097297  234680.466143  225999.395803   \n",
       "1   10119.840874   11302.312962   10893.769084   12113.340206   13023.192993   \n",
       "2      87.982868      83.414864      55.765305      57.648672     311.345020   \n",
       "3   30209.461107   27047.849975   29875.453114   28537.906464   29281.072794   \n",
       "4   15955.460131   15779.506155   15072.801816   15967.945051   15534.639676   \n",
       "\n",
       "          Dec_24         Jan_25         Feb_25         Mar_25         Apr_25  \n",
       "0  231292.303217  227502.646639  202244.544226  222725.939387  235891.383369  \n",
       "1   12380.172400   12935.612101   11634.557040   13658.727087   14181.096989  \n",
       "2     167.577619     218.694172      37.075016      66.271217     182.165617  \n",
       "3   29223.757179   25318.709148   25734.620536   27357.190860   26608.281524  \n",
       "4   15835.925065   15705.559737   14812.644306   16006.266780   16373.069494  \n",
       "\n",
       "[5 rows x 65 columns]"
      ]
     },
     "execution_count": 4,
     "metadata": {},
     "output_type": "execute_result"
    }
   ],
   "source": [
    "df.head()"
   ]
  },
  {
   "cell_type": "code",
   "execution_count": 5,
   "id": "15a66865",
   "metadata": {},
   "outputs": [
    {
     "data": {
      "text/html": [
       "<div>\n",
       "<style scoped>\n",
       "    .dataframe tbody tr th:only-of-type {\n",
       "        vertical-align: middle;\n",
       "    }\n",
       "\n",
       "    .dataframe tbody tr th {\n",
       "        vertical-align: top;\n",
       "    }\n",
       "\n",
       "    .dataframe thead th {\n",
       "        text-align: right;\n",
       "    }\n",
       "</style>\n",
       "<table border=\"1\" class=\"dataframe\">\n",
       "  <thead>\n",
       "    <tr style=\"text-align: right;\">\n",
       "      <th></th>\n",
       "      <th>Region</th>\n",
       "      <th>Jan_20</th>\n",
       "      <th>Feb_20</th>\n",
       "      <th>Mar_20</th>\n",
       "      <th>Apr_20</th>\n",
       "      <th>May_20</th>\n",
       "      <th>Jun_20</th>\n",
       "      <th>Jul_20</th>\n",
       "      <th>Aug_20</th>\n",
       "      <th>Sep_20</th>\n",
       "      <th>...</th>\n",
       "      <th>Jul_24</th>\n",
       "      <th>Aug_24</th>\n",
       "      <th>Sep_24</th>\n",
       "      <th>Oct_24</th>\n",
       "      <th>Nov_24</th>\n",
       "      <th>Dec_24</th>\n",
       "      <th>Jan_25</th>\n",
       "      <th>Feb_25</th>\n",
       "      <th>Mar_25</th>\n",
       "      <th>Apr_25</th>\n",
       "    </tr>\n",
       "  </thead>\n",
       "  <tbody>\n",
       "    <tr>\n",
       "      <th>0</th>\n",
       "      <td>America</td>\n",
       "      <td>124196</td>\n",
       "      <td>111452</td>\n",
       "      <td>124352</td>\n",
       "      <td>123772</td>\n",
       "      <td>146455</td>\n",
       "      <td>149087</td>\n",
       "      <td>144605</td>\n",
       "      <td>159737</td>\n",
       "      <td>164825</td>\n",
       "      <td>...</td>\n",
       "      <td>227861</td>\n",
       "      <td>250266</td>\n",
       "      <td>243512</td>\n",
       "      <td>247838</td>\n",
       "      <td>243022</td>\n",
       "      <td>248334</td>\n",
       "      <td>243476</td>\n",
       "      <td>215760</td>\n",
       "      <td>238916</td>\n",
       "      <td>252149</td>\n",
       "    </tr>\n",
       "    <tr>\n",
       "      <th>1</th>\n",
       "      <td>Europe</td>\n",
       "      <td>48546</td>\n",
       "      <td>40992</td>\n",
       "      <td>44823</td>\n",
       "      <td>40406</td>\n",
       "      <td>43209</td>\n",
       "      <td>43905</td>\n",
       "      <td>50004</td>\n",
       "      <td>48321</td>\n",
       "      <td>40842</td>\n",
       "      <td>...</td>\n",
       "      <td>72565</td>\n",
       "      <td>67566</td>\n",
       "      <td>69463</td>\n",
       "      <td>70514</td>\n",
       "      <td>69855</td>\n",
       "      <td>73030</td>\n",
       "      <td>70088</td>\n",
       "      <td>69986</td>\n",
       "      <td>75048</td>\n",
       "      <td>70530</td>\n",
       "    </tr>\n",
       "    <tr>\n",
       "      <th>2</th>\n",
       "      <td>Asia</td>\n",
       "      <td>27980</td>\n",
       "      <td>24886</td>\n",
       "      <td>25151</td>\n",
       "      <td>25662</td>\n",
       "      <td>31663</td>\n",
       "      <td>34518</td>\n",
       "      <td>39750</td>\n",
       "      <td>37001</td>\n",
       "      <td>34949</td>\n",
       "      <td>...</td>\n",
       "      <td>65650</td>\n",
       "      <td>59751</td>\n",
       "      <td>56482</td>\n",
       "      <td>63462</td>\n",
       "      <td>59082</td>\n",
       "      <td>62372</td>\n",
       "      <td>64654</td>\n",
       "      <td>56327</td>\n",
       "      <td>64510</td>\n",
       "      <td>55178</td>\n",
       "    </tr>\n",
       "    <tr>\n",
       "      <th>3</th>\n",
       "      <td>Africa</td>\n",
       "      <td>50613</td>\n",
       "      <td>35230</td>\n",
       "      <td>28916</td>\n",
       "      <td>13032</td>\n",
       "      <td>29293</td>\n",
       "      <td>53317</td>\n",
       "      <td>36702</td>\n",
       "      <td>23924</td>\n",
       "      <td>15009</td>\n",
       "      <td>...</td>\n",
       "      <td>30101</td>\n",
       "      <td>26198</td>\n",
       "      <td>29824</td>\n",
       "      <td>34466</td>\n",
       "      <td>30482</td>\n",
       "      <td>38665</td>\n",
       "      <td>26161</td>\n",
       "      <td>20980</td>\n",
       "      <td>24024</td>\n",
       "      <td>24749</td>\n",
       "    </tr>\n",
       "    <tr>\n",
       "      <th>4</th>\n",
       "      <td>Australia and Oceania</td>\n",
       "      <td>6002</td>\n",
       "      <td>4715</td>\n",
       "      <td>4297</td>\n",
       "      <td>4583</td>\n",
       "      <td>6713</td>\n",
       "      <td>7125</td>\n",
       "      <td>5445</td>\n",
       "      <td>4276</td>\n",
       "      <td>4401</td>\n",
       "      <td>...</td>\n",
       "      <td>16100</td>\n",
       "      <td>19039</td>\n",
       "      <td>17327</td>\n",
       "      <td>19086</td>\n",
       "      <td>18483</td>\n",
       "      <td>20096</td>\n",
       "      <td>21013</td>\n",
       "      <td>17601</td>\n",
       "      <td>18477</td>\n",
       "      <td>17885</td>\n",
       "    </tr>\n",
       "  </tbody>\n",
       "</table>\n",
       "<p>5 rows × 65 columns</p>\n",
       "</div>"
      ],
      "text/plain": [
       "                  Region  Jan_20  Feb_20  Mar_20  Apr_20  May_20  Jun_20  \\\n",
       "0                America  124196  111452  124352  123772  146455  149087   \n",
       "1                 Europe   48546   40992   44823   40406   43209   43905   \n",
       "2                   Asia   27980   24886   25151   25662   31663   34518   \n",
       "3                 Africa   50613   35230   28916   13032   29293   53317   \n",
       "4  Australia and Oceania    6002    4715    4297    4583    6713    7125   \n",
       "\n",
       "   Jul_20  Aug_20  Sep_20  ...  Jul_24  Aug_24  Sep_24  Oct_24  Nov_24  \\\n",
       "0  144605  159737  164825  ...  227861  250266  243512  247838  243022   \n",
       "1   50004   48321   40842  ...   72565   67566   69463   70514   69855   \n",
       "2   39750   37001   34949  ...   65650   59751   56482   63462   59082   \n",
       "3   36702   23924   15009  ...   30101   26198   29824   34466   30482   \n",
       "4    5445    4276    4401  ...   16100   19039   17327   19086   18483   \n",
       "\n",
       "   Dec_24  Jan_25  Feb_25  Mar_25  Apr_25  \n",
       "0  248334  243476  215760  238916  252149  \n",
       "1   73030   70088   69986   75048   70530  \n",
       "2   62372   64654   56327   64510   55178  \n",
       "3   38665   26161   20980   24024   24749  \n",
       "4   20096   21013   17601   18477   17885  \n",
       "\n",
       "[5 rows x 65 columns]"
      ]
     },
     "execution_count": 5,
     "metadata": {},
     "output_type": "execute_result"
    }
   ],
   "source": [
    "dt.head()"
   ]
  },
  {
   "cell_type": "code",
   "execution_count": 4,
   "id": "3c1c5d9d",
   "metadata": {},
   "outputs": [
    {
     "data": {
      "application/vnd.plotly.v1+json": {
       "config": {
        "plotlyServerURL": "https://plot.ly"
       },
       "data": [
        {
         "delta": {
          "position": "right",
          "reference": 0
         },
         "domain": {
          "x": [
           0.3,
           0.7
          ],
          "y": [
           0.1,
           0.9
          ]
         },
         "mode": "number+delta",
         "number": {
          "font": {
           "color": "#000000",
           "family": "Poppins, sans-serif",
           "size": 58
          },
          "prefix": "<span style='font-size:0.6em; color:#000000'>$</span>",
          "valueformat": ","
         },
         "title": {
          "align": "center",
          "font": {
           "color": "#BB0000",
           "family": "Poppins, sans-serif",
           "size": 24
          },
          "text": "<b>TOTAL REMITANCES</b>"
         },
         "type": "indicator",
         "value": 349391
        }
       ],
       "layout": {
        "font": {
         "family": "Poppins, sans-serif"
        },
        "height": 250,
        "images": [
         {
          "sizex": 0.2,
          "sizey": 0.4,
          "source": "data:image/png;base64,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",
          "x": 0.1,
          "xanchor": "left",
          "y": 0.5,
          "yanchor": "middle"
         }
        ],
        "margin": {
         "b": 20,
         "l": 100,
         "r": 20,
         "t": 60
        },
        "paper_bgcolor": "#FFFFFF",
        "plot_bgcolor": "#FFFFFF",
        "shapes": [
         {
          "line": {
           "color": "#BB0000",
           "width": 4
          },
          "type": "line",
          "x0": 0.1,
          "x1": 0.9,
          "y0": 0.9,
          "y1": 0.9
         }
        ],
        "template": {
         "data": {
          "bar": [
           {
            "error_x": {
             "color": "#2a3f5f"
            },
            "error_y": {
             "color": "#2a3f5f"
            },
            "marker": {
             "line": {
              "color": "#E5ECF6",
              "width": 0.5
             },
             "pattern": {
              "fillmode": "overlay",
              "size": 10,
              "solidity": 0.2
             }
            },
            "type": "bar"
           }
          ],
          "barpolar": [
           {
            "marker": {
             "line": {
              "color": "#E5ECF6",
              "width": 0.5
             },
             "pattern": {
              "fillmode": "overlay",
              "size": 10,
              "solidity": 0.2
             }
            },
            "type": "barpolar"
           }
          ],
          "carpet": [
           {
            "aaxis": {
             "endlinecolor": "#2a3f5f",
             "gridcolor": "white",
             "linecolor": "white",
             "minorgridcolor": "white",
             "startlinecolor": "#2a3f5f"
            },
            "baxis": {
             "endlinecolor": "#2a3f5f",
             "gridcolor": "white",
             "linecolor": "white",
             "minorgridcolor": "white",
             "startlinecolor": "#2a3f5f"
            },
            "type": "carpet"
           }
          ],
          "choropleth": [
           {
            "colorbar": {
             "outlinewidth": 0,
             "ticks": ""
            },
            "type": "choropleth"
           }
          ],
          "contour": [
           {
            "colorbar": {
             "outlinewidth": 0,
             "ticks": ""
            },
            "colorscale": [
             [
              0,
              "#0d0887"
             ],
             [
              0.1111111111111111,
              "#46039f"
             ],
             [
              0.2222222222222222,
              "#7201a8"
             ],
             [
              0.3333333333333333,
              "#9c179e"
             ],
             [
              0.4444444444444444,
              "#bd3786"
             ],
             [
              0.5555555555555556,
              "#d8576b"
             ],
             [
              0.6666666666666666,
              "#ed7953"
             ],
             [
              0.7777777777777778,
              "#fb9f3a"
             ],
             [
              0.8888888888888888,
              "#fdca26"
             ],
             [
              1,
              "#f0f921"
             ]
            ],
            "type": "contour"
           }
          ],
          "contourcarpet": [
           {
            "colorbar": {
             "outlinewidth": 0,
             "ticks": ""
            },
            "type": "contourcarpet"
           }
          ],
          "heatmap": [
           {
            "colorbar": {
             "outlinewidth": 0,
             "ticks": ""
            },
            "colorscale": [
             [
              0,
              "#0d0887"
             ],
             [
              0.1111111111111111,
              "#46039f"
             ],
             [
              0.2222222222222222,
              "#7201a8"
             ],
             [
              0.3333333333333333,
              "#9c179e"
             ],
             [
              0.4444444444444444,
              "#bd3786"
             ],
             [
              0.5555555555555556,
              "#d8576b"
             ],
             [
              0.6666666666666666,
              "#ed7953"
             ],
             [
              0.7777777777777778,
              "#fb9f3a"
             ],
             [
              0.8888888888888888,
              "#fdca26"
             ],
             [
              1,
              "#f0f921"
             ]
            ],
            "type": "heatmap"
           }
          ],
          "heatmapgl": [
           {
            "colorbar": {
             "outlinewidth": 0,
             "ticks": ""
            },
            "colorscale": [
             [
              0,
              "#0d0887"
             ],
             [
              0.1111111111111111,
              "#46039f"
             ],
             [
              0.2222222222222222,
              "#7201a8"
             ],
             [
              0.3333333333333333,
              "#9c179e"
             ],
             [
              0.4444444444444444,
              "#bd3786"
             ],
             [
              0.5555555555555556,
              "#d8576b"
             ],
             [
              0.6666666666666666,
              "#ed7953"
             ],
             [
              0.7777777777777778,
              "#fb9f3a"
             ],
             [
              0.8888888888888888,
              "#fdca26"
             ],
             [
              1,
              "#f0f921"
             ]
            ],
            "type": "heatmapgl"
           }
          ],
          "histogram": [
           {
            "marker": {
             "pattern": {
              "fillmode": "overlay",
              "size": 10,
              "solidity": 0.2
             }
            },
            "type": "histogram"
           }
          ],
          "histogram2d": [
           {
            "colorbar": {
             "outlinewidth": 0,
             "ticks": ""
            },
            "colorscale": [
             [
              0,
              "#0d0887"
             ],
             [
              0.1111111111111111,
              "#46039f"
             ],
             [
              0.2222222222222222,
              "#7201a8"
             ],
             [
              0.3333333333333333,
              "#9c179e"
             ],
             [
              0.4444444444444444,
              "#bd3786"
             ],
             [
              0.5555555555555556,
              "#d8576b"
             ],
             [
              0.6666666666666666,
              "#ed7953"
             ],
             [
              0.7777777777777778,
              "#fb9f3a"
             ],
             [
              0.8888888888888888,
              "#fdca26"
             ],
             [
              1,
              "#f0f921"
             ]
            ],
            "type": "histogram2d"
           }
          ],
          "histogram2dcontour": [
           {
            "colorbar": {
             "outlinewidth": 0,
             "ticks": ""
            },
            "colorscale": [
             [
              0,
              "#0d0887"
             ],
             [
              0.1111111111111111,
              "#46039f"
             ],
             [
              0.2222222222222222,
              "#7201a8"
             ],
             [
              0.3333333333333333,
              "#9c179e"
             ],
             [
              0.4444444444444444,
              "#bd3786"
             ],
             [
              0.5555555555555556,
              "#d8576b"
             ],
             [
              0.6666666666666666,
              "#ed7953"
             ],
             [
              0.7777777777777778,
              "#fb9f3a"
             ],
             [
              0.8888888888888888,
              "#fdca26"
             ],
             [
              1,
              "#f0f921"
             ]
            ],
            "type": "histogram2dcontour"
           }
          ],
          "mesh3d": [
           {
            "colorbar": {
             "outlinewidth": 0,
             "ticks": ""
            },
            "type": "mesh3d"
           }
          ],
          "parcoords": [
           {
            "line": {
             "colorbar": {
              "outlinewidth": 0,
              "ticks": ""
             }
            },
            "type": "parcoords"
           }
          ],
          "pie": [
           {
            "automargin": true,
            "type": "pie"
           }
          ],
          "scatter": [
           {
            "fillpattern": {
             "fillmode": "overlay",
             "size": 10,
             "solidity": 0.2
            },
            "type": "scatter"
           }
          ],
          "scatter3d": [
           {
            "line": {
             "colorbar": {
              "outlinewidth": 0,
              "ticks": ""
             }
            },
            "marker": {
             "colorbar": {
              "outlinewidth": 0,
              "ticks": ""
             }
            },
            "type": "scatter3d"
           }
          ],
          "scattercarpet": [
           {
            "marker": {
             "colorbar": {
              "outlinewidth": 0,
              "ticks": ""
             }
            },
            "type": "scattercarpet"
           }
          ],
          "scattergeo": [
           {
            "marker": {
             "colorbar": {
              "outlinewidth": 0,
              "ticks": ""
             }
            },
            "type": "scattergeo"
           }
          ],
          "scattergl": [
           {
            "marker": {
             "colorbar": {
              "outlinewidth": 0,
              "ticks": ""
             }
            },
            "type": "scattergl"
           }
          ],
          "scattermapbox": [
           {
            "marker": {
             "colorbar": {
              "outlinewidth": 0,
              "ticks": ""
             }
            },
            "type": "scattermapbox"
           }
          ],
          "scatterpolar": [
           {
            "marker": {
             "colorbar": {
              "outlinewidth": 0,
              "ticks": ""
             }
            },
            "type": "scatterpolar"
           }
          ],
          "scatterpolargl": [
           {
            "marker": {
             "colorbar": {
              "outlinewidth": 0,
              "ticks": ""
             }
            },
            "type": "scatterpolargl"
           }
          ],
          "scatterternary": [
           {
            "marker": {
             "colorbar": {
              "outlinewidth": 0,
              "ticks": ""
             }
            },
            "type": "scatterternary"
           }
          ],
          "surface": [
           {
            "colorbar": {
             "outlinewidth": 0,
             "ticks": ""
            },
            "colorscale": [
             [
              0,
              "#0d0887"
             ],
             [
              0.1111111111111111,
              "#46039f"
             ],
             [
              0.2222222222222222,
              "#7201a8"
             ],
             [
              0.3333333333333333,
              "#9c179e"
             ],
             [
              0.4444444444444444,
              "#bd3786"
             ],
             [
              0.5555555555555556,
              "#d8576b"
             ],
             [
              0.6666666666666666,
              "#ed7953"
             ],
             [
              0.7777777777777778,
              "#fb9f3a"
             ],
             [
              0.8888888888888888,
              "#fdca26"
             ],
             [
              1,
              "#f0f921"
             ]
            ],
            "type": "surface"
           }
          ],
          "table": [
           {
            "cells": {
             "fill": {
              "color": "#EBF0F8"
             },
             "line": {
              "color": "white"
             }
            },
            "header": {
             "fill": {
              "color": "#C8D4E3"
             },
             "line": {
              "color": "white"
             }
            },
            "type": "table"
           }
          ]
         },
         "layout": {
          "annotationdefaults": {
           "arrowcolor": "#2a3f5f",
           "arrowhead": 0,
           "arrowwidth": 1
          },
          "autotypenumbers": "strict",
          "coloraxis": {
           "colorbar": {
            "outlinewidth": 0,
            "ticks": ""
           }
          },
          "colorscale": {
           "diverging": [
            [
             0,
             "#8e0152"
            ],
            [
             0.1,
             "#c51b7d"
            ],
            [
             0.2,
             "#de77ae"
            ],
            [
             0.3,
             "#f1b6da"
            ],
            [
             0.4,
             "#fde0ef"
            ],
            [
             0.5,
             "#f7f7f7"
            ],
            [
             0.6,
             "#e6f5d0"
            ],
            [
             0.7,
             "#b8e186"
            ],
            [
             0.8,
             "#7fbc41"
            ],
            [
             0.9,
             "#4d9221"
            ],
            [
             1,
             "#276419"
            ]
           ],
           "sequential": [
            [
             0,
             "#0d0887"
            ],
            [
             0.1111111111111111,
             "#46039f"
            ],
            [
             0.2222222222222222,
             "#7201a8"
            ],
            [
             0.3333333333333333,
             "#9c179e"
            ],
            [
             0.4444444444444444,
             "#bd3786"
            ],
            [
             0.5555555555555556,
             "#d8576b"
            ],
            [
             0.6666666666666666,
             "#ed7953"
            ],
            [
             0.7777777777777778,
             "#fb9f3a"
            ],
            [
             0.8888888888888888,
             "#fdca26"
            ],
            [
             1,
             "#f0f921"
            ]
           ],
           "sequentialminus": [
            [
             0,
             "#0d0887"
            ],
            [
             0.1111111111111111,
             "#46039f"
            ],
            [
             0.2222222222222222,
             "#7201a8"
            ],
            [
             0.3333333333333333,
             "#9c179e"
            ],
            [
             0.4444444444444444,
             "#bd3786"
            ],
            [
             0.5555555555555556,
             "#d8576b"
            ],
            [
             0.6666666666666666,
             "#ed7953"
            ],
            [
             0.7777777777777778,
             "#fb9f3a"
            ],
            [
             0.8888888888888888,
             "#fdca26"
            ],
            [
             1,
             "#f0f921"
            ]
           ]
          },
          "colorway": [
           "#636efa",
           "#EF553B",
           "#00cc96",
           "#ab63fa",
           "#FFA15A",
           "#19d3f3",
           "#FF6692",
           "#B6E880",
           "#FF97FF",
           "#FECB52"
          ],
          "font": {
           "color": "#2a3f5f"
          },
          "geo": {
           "bgcolor": "white",
           "lakecolor": "white",
           "landcolor": "#E5ECF6",
           "showlakes": true,
           "showland": true,
           "subunitcolor": "white"
          },
          "hoverlabel": {
           "align": "left"
          },
          "hovermode": "closest",
          "mapbox": {
           "style": "light"
          },
          "paper_bgcolor": "white",
          "plot_bgcolor": "#E5ECF6",
          "polar": {
           "angularaxis": {
            "gridcolor": "white",
            "linecolor": "white",
            "ticks": ""
           },
           "bgcolor": "#E5ECF6",
           "radialaxis": {
            "gridcolor": "white",
            "linecolor": "white",
            "ticks": ""
           }
          },
          "scene": {
           "xaxis": {
            "backgroundcolor": "#E5ECF6",
            "gridcolor": "white",
            "gridwidth": 2,
            "linecolor": "white",
            "showbackground": true,
            "ticks": "",
            "zerolinecolor": "white"
           },
           "yaxis": {
            "backgroundcolor": "#E5ECF6",
            "gridcolor": "white",
            "gridwidth": 2,
            "linecolor": "white",
            "showbackground": true,
            "ticks": "",
            "zerolinecolor": "white"
           },
           "zaxis": {
            "backgroundcolor": "#E5ECF6",
            "gridcolor": "white",
            "gridwidth": 2,
            "linecolor": "white",
            "showbackground": true,
            "ticks": "",
            "zerolinecolor": "white"
           }
          },
          "shapedefaults": {
           "line": {
            "color": "#2a3f5f"
           }
          },
          "ternary": {
           "aaxis": {
            "gridcolor": "white",
            "linecolor": "white",
            "ticks": ""
           },
           "baxis": {
            "gridcolor": "white",
            "linecolor": "white",
            "ticks": ""
           },
           "bgcolor": "#E5ECF6",
           "caxis": {
            "gridcolor": "white",
            "linecolor": "white",
            "ticks": ""
           }
          },
          "title": {
           "x": 0.05
          },
          "xaxis": {
           "automargin": true,
           "gridcolor": "white",
           "linecolor": "white",
           "ticks": "",
           "title": {
            "standoff": 15
           },
           "zerolinecolor": "white",
           "zerolinewidth": 2
          },
          "yaxis": {
           "automargin": true,
           "gridcolor": "white",
           "linecolor": "white",
           "ticks": "",
           "title": {
            "standoff": 15
           },
           "zerolinecolor": "white",
           "zerolinewidth": 2
          }
         }
        },
        "width": 700
       }
      }
     },
     "metadata": {},
     "output_type": "display_data"
    }
   ],
   "source": [
    "import plotly.graph_objects as go\n",
    "from PIL import Image\n",
    "import base64\n",
    "\n",
    "# Sample data\n",
    "\n",
    "total = sum(dt[\"Jan_23\"])\n",
    "\n",
    "# Kenya flag colors\n",
    "colors = {\n",
    "    \"black\": \"#000000\",\n",
    "    \"red\": \"#BB0000\",\n",
    "    \"green\": \"#007336\",\n",
    "    \"white\": \"#FFFFFF\"\n",
    "}\n",
    "\n",
    "# Custom font (Poppins or fallback)\n",
    "font_family = \"Poppins, sans-serif\"\n",
    "\n",
    "# Encode local image (salary.png) to Base64\n",
    "def image_to_base64(image_path):\n",
    "    with open(image_path, \"rb\") as img_file:\n",
    "        return \"data:image/png;base64,\" + base64.b64encode(img_file.read()).decode('utf-8')\n",
    "\n",
    "# Replace with your actual image path\n",
    "icon_path = r\"C:\\Users\\KMC\\Music\\salary.png\"\n",
    "icon_base64 = image_to_base64(icon_path)  # Converts image to embeddable format\n",
    "\n",
    "# Create figure with icon and total\n",
    "fig = go.Figure()\n",
    "\n",
    "# Add indicator with Kenya colors and custom icon\n",
    "fig.add_trace(go.Indicator(\n",
    "    mode=\"number+delta\",\n",
    "    value=total,\n",
    "    number={\n",
    "        \"prefix\": \"<span style='font-size:0.6em; color:\" + colors[\"black\"] + \"'>$</span>\",\n",
    "        \"valueformat\": \",\",\n",
    "        \"font\": {\"size\": 58, \"family\": font_family, \"color\": colors[\"black\"]},\n",
    "    },\n",
    "    title={\n",
    "        \"text\": \"<b>TOTAL REMITANCES</b>\",\n",
    "        \"font\": {\"size\": 24, \"family\": font_family, \"color\": colors[\"red\"]},\n",
    "        \"align\": \"center\"\n",
    "    },\n",
    "    delta={'reference': 0, 'position': 'right'},  # Optional: Remove if no delta needed\n",
    "    domain={'x': [0.3, 0.7], 'y': [0.1, 0.9]}  # Adjust position to accommodate icon\n",
    "))\n",
    "\n",
    "# Add custom icon as an image\n",
    "fig.add_layout_image(\n",
    "    dict(\n",
    "        source=icon_base64,\n",
    "        x=0.1,  # Left side\n",
    "        y=0.5,\n",
    "        sizex=0.2,  # Width (adjust as needed)\n",
    "        sizey=0.4,  # Height\n",
    "        xanchor=\"left\",\n",
    "        yanchor=\"middle\"\n",
    "    )\n",
    ")\n",
    "\n",
    "# Kenya-themed layout\n",
    "fig.update_layout(\n",
    "    plot_bgcolor=colors[\"white\"],\n",
    "    paper_bgcolor=colors[\"white\"],\n",
    "    margin=dict(l=100, r=20, t=60, b=20),  # Extra left margin for icon\n",
    "    height=250,\n",
    "    width=700,\n",
    "    font={\"family\": font_family}\n",
    ")\n",
    "\n",
    "# Add Kenya flag-inspired divider (optional)\n",
    "fig.add_shape(\n",
    "    type=\"line\",\n",
    "    x0=0.1, y0=0.9, x1=0.9, y1=0.9,\n",
    "    line=dict(color=colors[\"red\"], width=4)\n",
    ")\n",
    "\n",
    "fig.show()"
   ]
  },
  {
   "cell_type": "code",
   "execution_count": null,
   "id": "d51f28a2",
   "metadata": {},
   "outputs": [
    {
     "ename": "AttributeError",
     "evalue": "'Index' object has no attribute 'd'",
     "output_type": "error",
     "traceback": [
      "\u001b[1;31m---------------------------------------------------------------------------\u001b[0m",
      "\u001b[1;31mAttributeError\u001b[0m                            Traceback (most recent call last)",
      "Cell \u001b[1;32mIn[7], line 1\u001b[0m\n\u001b[1;32m----> 1\u001b[0m dt\u001b[38;5;241m.\u001b[39mcolumns\u001b[38;5;241m.\u001b[39md\n",
      "\u001b[1;31mAttributeError\u001b[0m: 'Index' object has no attribute 'd'"
     ]
    }
   ],
   "source": []
  },
  {
   "cell_type": "code",
   "execution_count": null,
   "id": "c7f3f1d6",
   "metadata": {},
   "outputs": [],
   "source": []
  },
  {
   "cell_type": "code",
   "execution_count": 8,
   "id": "8c23c554",
   "metadata": {},
   "outputs": [
    {
     "data": {
      "text/plain": [
       "Index(['Region/Country', 'Jan_20', 'Feb_20', 'Mar_20', 'Apr_20', 'May_20',\n",
       "       'Jun_20', 'Jul_20', 'Aug_20', 'Sep_20', 'Oct_20', 'Nov_20', 'Dec_20',\n",
       "       'Jan_21', 'Feb_21', 'Mar_21', 'Apr_21', 'May_21', 'Jun_21', 'Jul_21',\n",
       "       'Aug_21', 'Sep_21', 'Oct_21', 'Nov_21', 'Dec_21', 'Jan_22', 'Feb_22',\n",
       "       'Mar_22', 'Apr_22', 'May_22', 'Jun_22', 'Jul_22', 'Aug_22', 'Sep_22',\n",
       "       'Oct_22', 'Nov_22', 'Dec_22', 'Jan_23', 'Feb_23', 'Mar_23', 'Apr_23',\n",
       "       'May_23', 'Jun_23', 'Jul_23', 'Aug_23', 'Sep_23', 'Oct_23', 'Nov_23',\n",
       "       'Dec_23', 'Jan_24', 'Feb_24', 'Mar_24', 'Apr_24', 'May_24', 'Jun_24',\n",
       "       'Jul_24', 'Aug_24', 'Sep_24', 'Oct_24', 'Nov_24', 'Dec_24', 'Jan_25',\n",
       "       'Feb_25', 'Mar_25', 'Apr_25'],\n",
       "      dtype='object')"
      ]
     },
     "execution_count": 8,
     "metadata": {},
     "output_type": "execute_result"
    }
   ],
   "source": [
    "df.columns"
   ]
  },
  {
   "cell_type": "code",
   "execution_count": 7,
   "id": "cd3bc46e",
   "metadata": {},
   "outputs": [
    {
     "data": {
      "application/vnd.plotly.v1+json": {
       "config": {
        "plotlyServerURL": "https://plot.ly"
       },
       "data": [
        {
         "domain": {
          "x": [
           0.3,
           0.7
          ],
          "y": [
           0.6,
           0.9
          ]
         },
         "mode": "number",
         "number": {
          "font": {
           "color": "#BB0000",
           "size": 58
          },
          "prefix": "<span style='color:#BB0000;font-size:0.8em'>▼ $</span>",
          "valueformat": ","
         },
         "title": {
          "font": {
           "color": "#000000",
           "size": 24
          },
          "text": "<b>CHANGE from DEC 22</b>"
         },
         "type": "indicator",
         "value": 7908
        },
        {
         "domain": {
          "x": [
           0.2,
           0.45
          ],
          "y": [
           0.2,
           0.4
          ]
         },
         "mode": "number",
         "number": {
          "font": {
           "color": "#000000",
           "size": 32
          },
          "prefix": "<span style='font-size:0.6em'>$</span>",
          "valueformat": ","
         },
         "title": {
          "font": {
           "color": "#000000",
           "size": 18
          },
          "text": "JAN 23 Total"
         },
         "type": "indicator",
         "value": 349391
        },
        {
         "domain": {
          "x": [
           0.55,
           0.8
          ],
          "y": [
           0.2,
           0.4
          ]
         },
         "mode": "number",
         "number": {
          "font": {
           "color": "#BB0000",
           "size": 32
          },
          "suffix": "%",
          "valueformat": ".1f"
         },
         "title": {
          "font": {
           "color": "#000000",
           "size": 18
          },
          "text": "Percentage Change"
         },
         "type": "indicator",
         "value": 2.2132723573253776
        }
       ],
       "layout": {
        "annotations": [
         {
          "font": {
           "color": "#000000",
           "size": 16
          },
          "showarrow": false,
          "text": "From DEC 22 Total: $357,299",
          "x": 0.5,
          "y": -0.1
         }
        ],
        "font": {
         "family": "Arial"
        },
        "height": 250,
        "margin": {
         "b": 20,
         "l": 50,
         "r": 50,
         "t": 80
        },
        "paper_bgcolor": "#FFFFFF",
        "plot_bgcolor": "#FFFFFF",
        "template": {
         "data": {
          "bar": [
           {
            "error_x": {
             "color": "#2a3f5f"
            },
            "error_y": {
             "color": "#2a3f5f"
            },
            "marker": {
             "line": {
              "color": "#E5ECF6",
              "width": 0.5
             },
             "pattern": {
              "fillmode": "overlay",
              "size": 10,
              "solidity": 0.2
             }
            },
            "type": "bar"
           }
          ],
          "barpolar": [
           {
            "marker": {
             "line": {
              "color": "#E5ECF6",
              "width": 0.5
             },
             "pattern": {
              "fillmode": "overlay",
              "size": 10,
              "solidity": 0.2
             }
            },
            "type": "barpolar"
           }
          ],
          "carpet": [
           {
            "aaxis": {
             "endlinecolor": "#2a3f5f",
             "gridcolor": "white",
             "linecolor": "white",
             "minorgridcolor": "white",
             "startlinecolor": "#2a3f5f"
            },
            "baxis": {
             "endlinecolor": "#2a3f5f",
             "gridcolor": "white",
             "linecolor": "white",
             "minorgridcolor": "white",
             "startlinecolor": "#2a3f5f"
            },
            "type": "carpet"
           }
          ],
          "choropleth": [
           {
            "colorbar": {
             "outlinewidth": 0,
             "ticks": ""
            },
            "type": "choropleth"
           }
          ],
          "contour": [
           {
            "colorbar": {
             "outlinewidth": 0,
             "ticks": ""
            },
            "colorscale": [
             [
              0,
              "#0d0887"
             ],
             [
              0.1111111111111111,
              "#46039f"
             ],
             [
              0.2222222222222222,
              "#7201a8"
             ],
             [
              0.3333333333333333,
              "#9c179e"
             ],
             [
              0.4444444444444444,
              "#bd3786"
             ],
             [
              0.5555555555555556,
              "#d8576b"
             ],
             [
              0.6666666666666666,
              "#ed7953"
             ],
             [
              0.7777777777777778,
              "#fb9f3a"
             ],
             [
              0.8888888888888888,
              "#fdca26"
             ],
             [
              1,
              "#f0f921"
             ]
            ],
            "type": "contour"
           }
          ],
          "contourcarpet": [
           {
            "colorbar": {
             "outlinewidth": 0,
             "ticks": ""
            },
            "type": "contourcarpet"
           }
          ],
          "heatmap": [
           {
            "colorbar": {
             "outlinewidth": 0,
             "ticks": ""
            },
            "colorscale": [
             [
              0,
              "#0d0887"
             ],
             [
              0.1111111111111111,
              "#46039f"
             ],
             [
              0.2222222222222222,
              "#7201a8"
             ],
             [
              0.3333333333333333,
              "#9c179e"
             ],
             [
              0.4444444444444444,
              "#bd3786"
             ],
             [
              0.5555555555555556,
              "#d8576b"
             ],
             [
              0.6666666666666666,
              "#ed7953"
             ],
             [
              0.7777777777777778,
              "#fb9f3a"
             ],
             [
              0.8888888888888888,
              "#fdca26"
             ],
             [
              1,
              "#f0f921"
             ]
            ],
            "type": "heatmap"
           }
          ],
          "heatmapgl": [
           {
            "colorbar": {
             "outlinewidth": 0,
             "ticks": ""
            },
            "colorscale": [
             [
              0,
              "#0d0887"
             ],
             [
              0.1111111111111111,
              "#46039f"
             ],
             [
              0.2222222222222222,
              "#7201a8"
             ],
             [
              0.3333333333333333,
              "#9c179e"
             ],
             [
              0.4444444444444444,
              "#bd3786"
             ],
             [
              0.5555555555555556,
              "#d8576b"
             ],
             [
              0.6666666666666666,
              "#ed7953"
             ],
             [
              0.7777777777777778,
              "#fb9f3a"
             ],
             [
              0.8888888888888888,
              "#fdca26"
             ],
             [
              1,
              "#f0f921"
             ]
            ],
            "type": "heatmapgl"
           }
          ],
          "histogram": [
           {
            "marker": {
             "pattern": {
              "fillmode": "overlay",
              "size": 10,
              "solidity": 0.2
             }
            },
            "type": "histogram"
           }
          ],
          "histogram2d": [
           {
            "colorbar": {
             "outlinewidth": 0,
             "ticks": ""
            },
            "colorscale": [
             [
              0,
              "#0d0887"
             ],
             [
              0.1111111111111111,
              "#46039f"
             ],
             [
              0.2222222222222222,
              "#7201a8"
             ],
             [
              0.3333333333333333,
              "#9c179e"
             ],
             [
              0.4444444444444444,
              "#bd3786"
             ],
             [
              0.5555555555555556,
              "#d8576b"
             ],
             [
              0.6666666666666666,
              "#ed7953"
             ],
             [
              0.7777777777777778,
              "#fb9f3a"
             ],
             [
              0.8888888888888888,
              "#fdca26"
             ],
             [
              1,
              "#f0f921"
             ]
            ],
            "type": "histogram2d"
           }
          ],
          "histogram2dcontour": [
           {
            "colorbar": {
             "outlinewidth": 0,
             "ticks": ""
            },
            "colorscale": [
             [
              0,
              "#0d0887"
             ],
             [
              0.1111111111111111,
              "#46039f"
             ],
             [
              0.2222222222222222,
              "#7201a8"
             ],
             [
              0.3333333333333333,
              "#9c179e"
             ],
             [
              0.4444444444444444,
              "#bd3786"
             ],
             [
              0.5555555555555556,
              "#d8576b"
             ],
             [
              0.6666666666666666,
              "#ed7953"
             ],
             [
              0.7777777777777778,
              "#fb9f3a"
             ],
             [
              0.8888888888888888,
              "#fdca26"
             ],
             [
              1,
              "#f0f921"
             ]
            ],
            "type": "histogram2dcontour"
           }
          ],
          "mesh3d": [
           {
            "colorbar": {
             "outlinewidth": 0,
             "ticks": ""
            },
            "type": "mesh3d"
           }
          ],
          "parcoords": [
           {
            "line": {
             "colorbar": {
              "outlinewidth": 0,
              "ticks": ""
             }
            },
            "type": "parcoords"
           }
          ],
          "pie": [
           {
            "automargin": true,
            "type": "pie"
           }
          ],
          "scatter": [
           {
            "fillpattern": {
             "fillmode": "overlay",
             "size": 10,
             "solidity": 0.2
            },
            "type": "scatter"
           }
          ],
          "scatter3d": [
           {
            "line": {
             "colorbar": {
              "outlinewidth": 0,
              "ticks": ""
             }
            },
            "marker": {
             "colorbar": {
              "outlinewidth": 0,
              "ticks": ""
             }
            },
            "type": "scatter3d"
           }
          ],
          "scattercarpet": [
           {
            "marker": {
             "colorbar": {
              "outlinewidth": 0,
              "ticks": ""
             }
            },
            "type": "scattercarpet"
           }
          ],
          "scattergeo": [
           {
            "marker": {
             "colorbar": {
              "outlinewidth": 0,
              "ticks": ""
             }
            },
            "type": "scattergeo"
           }
          ],
          "scattergl": [
           {
            "marker": {
             "colorbar": {
              "outlinewidth": 0,
              "ticks": ""
             }
            },
            "type": "scattergl"
           }
          ],
          "scattermapbox": [
           {
            "marker": {
             "colorbar": {
              "outlinewidth": 0,
              "ticks": ""
             }
            },
            "type": "scattermapbox"
           }
          ],
          "scatterpolar": [
           {
            "marker": {
             "colorbar": {
              "outlinewidth": 0,
              "ticks": ""
             }
            },
            "type": "scatterpolar"
           }
          ],
          "scatterpolargl": [
           {
            "marker": {
             "colorbar": {
              "outlinewidth": 0,
              "ticks": ""
             }
            },
            "type": "scatterpolargl"
           }
          ],
          "scatterternary": [
           {
            "marker": {
             "colorbar": {
              "outlinewidth": 0,
              "ticks": ""
             }
            },
            "type": "scatterternary"
           }
          ],
          "surface": [
           {
            "colorbar": {
             "outlinewidth": 0,
             "ticks": ""
            },
            "colorscale": [
             [
              0,
              "#0d0887"
             ],
             [
              0.1111111111111111,
              "#46039f"
             ],
             [
              0.2222222222222222,
              "#7201a8"
             ],
             [
              0.3333333333333333,
              "#9c179e"
             ],
             [
              0.4444444444444444,
              "#bd3786"
             ],
             [
              0.5555555555555556,
              "#d8576b"
             ],
             [
              0.6666666666666666,
              "#ed7953"
             ],
             [
              0.7777777777777778,
              "#fb9f3a"
             ],
             [
              0.8888888888888888,
              "#fdca26"
             ],
             [
              1,
              "#f0f921"
             ]
            ],
            "type": "surface"
           }
          ],
          "table": [
           {
            "cells": {
             "fill": {
              "color": "#EBF0F8"
             },
             "line": {
              "color": "white"
             }
            },
            "header": {
             "fill": {
              "color": "#C8D4E3"
             },
             "line": {
              "color": "white"
             }
            },
            "type": "table"
           }
          ]
         },
         "layout": {
          "annotationdefaults": {
           "arrowcolor": "#2a3f5f",
           "arrowhead": 0,
           "arrowwidth": 1
          },
          "autotypenumbers": "strict",
          "coloraxis": {
           "colorbar": {
            "outlinewidth": 0,
            "ticks": ""
           }
          },
          "colorscale": {
           "diverging": [
            [
             0,
             "#8e0152"
            ],
            [
             0.1,
             "#c51b7d"
            ],
            [
             0.2,
             "#de77ae"
            ],
            [
             0.3,
             "#f1b6da"
            ],
            [
             0.4,
             "#fde0ef"
            ],
            [
             0.5,
             "#f7f7f7"
            ],
            [
             0.6,
             "#e6f5d0"
            ],
            [
             0.7,
             "#b8e186"
            ],
            [
             0.8,
             "#7fbc41"
            ],
            [
             0.9,
             "#4d9221"
            ],
            [
             1,
             "#276419"
            ]
           ],
           "sequential": [
            [
             0,
             "#0d0887"
            ],
            [
             0.1111111111111111,
             "#46039f"
            ],
            [
             0.2222222222222222,
             "#7201a8"
            ],
            [
             0.3333333333333333,
             "#9c179e"
            ],
            [
             0.4444444444444444,
             "#bd3786"
            ],
            [
             0.5555555555555556,
             "#d8576b"
            ],
            [
             0.6666666666666666,
             "#ed7953"
            ],
            [
             0.7777777777777778,
             "#fb9f3a"
            ],
            [
             0.8888888888888888,
             "#fdca26"
            ],
            [
             1,
             "#f0f921"
            ]
           ],
           "sequentialminus": [
            [
             0,
             "#0d0887"
            ],
            [
             0.1111111111111111,
             "#46039f"
            ],
            [
             0.2222222222222222,
             "#7201a8"
            ],
            [
             0.3333333333333333,
             "#9c179e"
            ],
            [
             0.4444444444444444,
             "#bd3786"
            ],
            [
             0.5555555555555556,
             "#d8576b"
            ],
            [
             0.6666666666666666,
             "#ed7953"
            ],
            [
             0.7777777777777778,
             "#fb9f3a"
            ],
            [
             0.8888888888888888,
             "#fdca26"
            ],
            [
             1,
             "#f0f921"
            ]
           ]
          },
          "colorway": [
           "#636efa",
           "#EF553B",
           "#00cc96",
           "#ab63fa",
           "#FFA15A",
           "#19d3f3",
           "#FF6692",
           "#B6E880",
           "#FF97FF",
           "#FECB52"
          ],
          "font": {
           "color": "#2a3f5f"
          },
          "geo": {
           "bgcolor": "white",
           "lakecolor": "white",
           "landcolor": "#E5ECF6",
           "showlakes": true,
           "showland": true,
           "subunitcolor": "white"
          },
          "hoverlabel": {
           "align": "left"
          },
          "hovermode": "closest",
          "mapbox": {
           "style": "light"
          },
          "paper_bgcolor": "white",
          "plot_bgcolor": "#E5ECF6",
          "polar": {
           "angularaxis": {
            "gridcolor": "white",
            "linecolor": "white",
            "ticks": ""
           },
           "bgcolor": "#E5ECF6",
           "radialaxis": {
            "gridcolor": "white",
            "linecolor": "white",
            "ticks": ""
           }
          },
          "scene": {
           "xaxis": {
            "backgroundcolor": "#E5ECF6",
            "gridcolor": "white",
            "gridwidth": 2,
            "linecolor": "white",
            "showbackground": true,
            "ticks": "",
            "zerolinecolor": "white"
           },
           "yaxis": {
            "backgroundcolor": "#E5ECF6",
            "gridcolor": "white",
            "gridwidth": 2,
            "linecolor": "white",
            "showbackground": true,
            "ticks": "",
            "zerolinecolor": "white"
           },
           "zaxis": {
            "backgroundcolor": "#E5ECF6",
            "gridcolor": "white",
            "gridwidth": 2,
            "linecolor": "white",
            "showbackground": true,
            "ticks": "",
            "zerolinecolor": "white"
           }
          },
          "shapedefaults": {
           "line": {
            "color": "#2a3f5f"
           }
          },
          "ternary": {
           "aaxis": {
            "gridcolor": "white",
            "linecolor": "white",
            "ticks": ""
           },
           "baxis": {
            "gridcolor": "white",
            "linecolor": "white",
            "ticks": ""
           },
           "bgcolor": "#E5ECF6",
           "caxis": {
            "gridcolor": "white",
            "linecolor": "white",
            "ticks": ""
           }
          },
          "title": {
           "x": 0.05
          },
          "xaxis": {
           "automargin": true,
           "gridcolor": "white",
           "linecolor": "white",
           "ticks": "",
           "title": {
            "standoff": 15
           },
           "zerolinecolor": "white",
           "zerolinewidth": 2
          },
          "yaxis": {
           "automargin": true,
           "gridcolor": "white",
           "linecolor": "white",
           "ticks": "",
           "title": {
            "standoff": 15
           },
           "zerolinecolor": "white",
           "zerolinewidth": 2
          }
         }
        },
        "width": 700
       }
      }
     },
     "metadata": {},
     "output_type": "display_data"
    }
   ],
   "source": [
    "import plotly.graph_objects as go\n",
    "import pandas as pd\n",
    "\n",
    "# Sample DataFrame (replace with actual)\n",
    "# dt = pd.read_csv(...)  # your real data\n",
    "\n",
    "# Kenya flag colors\n",
    "colors = {\n",
    "    \"increase\": \"#007336\",  # Green\n",
    "    \"decrease\": \"#BB0000\",  # Red\n",
    "    \"text\": \"#000000\",      # Black\n",
    "    \"bg\": \"#FFFFFF\"         # White\n",
    "}\n",
    "\n",
    "# ---- 1. Month Setup ----\n",
    "current_month = \"Jan_23\"\n",
    "month_columns = [col for col in dt.columns if col != 'Region/Country']\n",
    "current_index = month_columns.index(current_month)\n",
    "previous_month = month_columns[current_index - 1] if current_index > 0 else None\n",
    "\n",
    "# ---- 2. Change Calculations ----\n",
    "current_total = dt[current_month].sum()\n",
    "previous_total = dt[previous_month].sum() if previous_month else 0\n",
    "difference = current_total - previous_total\n",
    "pct_change = (difference / previous_total * 100) if previous_total else 0\n",
    "change_color = colors[\"increase\"] if difference >= 0 else colors[\"decrease\"]\n",
    "change_direction = \"▲\" if difference >= 0 else \"▼\"\n",
    "\n",
    "# ---- 3. New Visualization Order ----\n",
    "fig = go.Figure()\n",
    "\n",
    "# Main indicator: CHANGE in amount\n",
    "fig.add_trace(go.Indicator(\n",
    "    mode=\"number\",\n",
    "    value=abs(difference),\n",
    "    number={\n",
    "        \"prefix\": f\"<span style='color:{change_color};font-size:0.8em'>{change_direction} $</span>\",\n",
    "        \"valueformat\": \",\",\n",
    "        \"font\": {\"size\": 58, \"color\": change_color}\n",
    "    },\n",
    "    title={\n",
    "        \"text\": f\"<b>CHANGE from {previous_month.replace('_', ' ').upper()}</b>\",\n",
    "        \"font\": {\"size\": 24, \"color\": colors[\"text\"]}\n",
    "    },\n",
    "    domain={'x': [0.3, 0.7], 'y': [0.6, 0.9]}\n",
    "))\n",
    "\n",
    "# Secondary: Current total\n",
    "fig.add_trace(go.Indicator(\n",
    "    mode=\"number\",\n",
    "    value=current_total,\n",
    "    number={\n",
    "        \"prefix\": \"<span style='font-size:0.6em'>$</span>\",\n",
    "        \"valueformat\": \",\",\n",
    "        \"font\": {\"size\": 32, \"color\": colors[\"text\"]}\n",
    "    },\n",
    "    title={\n",
    "        \"text\": f\"{current_month.replace('_', ' ').upper()} Total\",\n",
    "        \"font\": {\"size\": 18, \"color\": colors[\"text\"]}\n",
    "    },\n",
    "    domain={'x': [0.2, 0.45], 'y': [0.2, 0.4]}\n",
    "))\n",
    "\n",
    "# Secondary: Percentage change\n",
    "fig.add_trace(go.Indicator(\n",
    "    mode=\"number\",\n",
    "    value=abs(pct_change),\n",
    "    number={\n",
    "        \"suffix\": \"%\",\n",
    "        \"valueformat\": \".1f\",\n",
    "        \"font\": {\"size\": 32, \"color\": change_color}\n",
    "    },\n",
    "    title={\n",
    "        \"text\": \"Percentage Change\",\n",
    "        \"font\": {\"size\": 18, \"color\": colors[\"text\"]}\n",
    "    },\n",
    "    domain={'x': [0.55, 0.8], 'y': [0.2, 0.4]}\n",
    "))\n",
    "\n",
    "# Comparison annotation\n",
    "fig.add_annotation(\n",
    "    x=0.5, y=-0.1,\n",
    "    text=f\"From {previous_month.replace('_', ' ').upper()} Total: ${previous_total:,}\",\n",
    "    showarrow=False,\n",
    "    font={\"size\": 16, \"color\": colors[\"text\"]}\n",
    ")\n",
    "\n",
    "# Layout\n",
    "fig.update_layout(\n",
    "    plot_bgcolor=colors[\"bg\"],\n",
    "    paper_bgcolor=colors[\"bg\"],\n",
    "    margin=dict(l=50, r=50, t=80, b=20),\n",
    "    height=250,\n",
    "    width=700,\n",
    "    font={\"family\": \"Arial\"}\n",
    ")\n",
    "\n",
    "fig.show()\n"
   ]
  },
  {
   "cell_type": "code",
   "execution_count": 15,
   "id": "f4b0cf33",
   "metadata": {},
   "outputs": [
    {
     "data": {
      "application/vnd.plotly.v1+json": {
       "config": {
        "plotlyServerURL": "https://plot.ly"
       },
       "data": [
        {
         "domain": {
          "x": [
           0.3,
           0.7
          ],
          "y": [
           0.6,
           0.9
          ]
         },
         "mode": "number",
         "number": {
          "font": {
           "color": "#007336",
           "size": 58
          },
          "prefix": "<span style='color:#007336;font-size:0.8em'>▲ $</span>",
          "valueformat": ","
         },
         "title": {
          "font": {
           "color": "#000000",
           "size": 24
          },
          "text": "<b>CHANGE from JAN 22</b>"
         },
         "type": "indicator",
         "value": 10671
        },
        {
         "domain": {
          "x": [
           0.2,
           0.45
          ],
          "y": [
           0.2,
           0.4
          ]
         },
         "mode": "number",
         "number": {
          "font": {
           "color": "#000000",
           "size": 32
          },
          "prefix": "<span style='font-size:0.6em'>$</span>",
          "valueformat": ","
         },
         "title": {
          "font": {
           "color": "#000000",
           "size": 18
          },
          "text": "JAN 23 Total"
         },
         "type": "indicator",
         "value": 349391
        },
        {
         "domain": {
          "x": [
           0.55,
           0.8
          ],
          "y": [
           0.2,
           0.4
          ]
         },
         "mode": "number",
         "number": {
          "font": {
           "color": "#007336",
           "size": 32
          },
          "suffix": "%",
          "valueformat": ".1f"
         },
         "title": {
          "font": {
           "color": "#000000",
           "size": 18
          },
          "text": "YoY % Change"
         },
         "type": "indicator",
         "value": 3.1503897024090697
        }
       ],
       "layout": {
        "annotations": [
         {
          "font": {
           "color": "#000000",
           "size": 16
          },
          "showarrow": false,
          "text": "From JAN 22 Total: $338,720",
          "x": 0.5,
          "y": -0.1
         }
        ],
        "font": {
         "family": "Arial"
        },
        "height": 250,
        "margin": {
         "b": 20,
         "l": 50,
         "r": 50,
         "t": 80
        },
        "paper_bgcolor": "#FFFFFF",
        "plot_bgcolor": "#FFFFFF",
        "template": {
         "data": {
          "bar": [
           {
            "error_x": {
             "color": "#2a3f5f"
            },
            "error_y": {
             "color": "#2a3f5f"
            },
            "marker": {
             "line": {
              "color": "#E5ECF6",
              "width": 0.5
             },
             "pattern": {
              "fillmode": "overlay",
              "size": 10,
              "solidity": 0.2
             }
            },
            "type": "bar"
           }
          ],
          "barpolar": [
           {
            "marker": {
             "line": {
              "color": "#E5ECF6",
              "width": 0.5
             },
             "pattern": {
              "fillmode": "overlay",
              "size": 10,
              "solidity": 0.2
             }
            },
            "type": "barpolar"
           }
          ],
          "carpet": [
           {
            "aaxis": {
             "endlinecolor": "#2a3f5f",
             "gridcolor": "white",
             "linecolor": "white",
             "minorgridcolor": "white",
             "startlinecolor": "#2a3f5f"
            },
            "baxis": {
             "endlinecolor": "#2a3f5f",
             "gridcolor": "white",
             "linecolor": "white",
             "minorgridcolor": "white",
             "startlinecolor": "#2a3f5f"
            },
            "type": "carpet"
           }
          ],
          "choropleth": [
           {
            "colorbar": {
             "outlinewidth": 0,
             "ticks": ""
            },
            "type": "choropleth"
           }
          ],
          "contour": [
           {
            "colorbar": {
             "outlinewidth": 0,
             "ticks": ""
            },
            "colorscale": [
             [
              0,
              "#0d0887"
             ],
             [
              0.1111111111111111,
              "#46039f"
             ],
             [
              0.2222222222222222,
              "#7201a8"
             ],
             [
              0.3333333333333333,
              "#9c179e"
             ],
             [
              0.4444444444444444,
              "#bd3786"
             ],
             [
              0.5555555555555556,
              "#d8576b"
             ],
             [
              0.6666666666666666,
              "#ed7953"
             ],
             [
              0.7777777777777778,
              "#fb9f3a"
             ],
             [
              0.8888888888888888,
              "#fdca26"
             ],
             [
              1,
              "#f0f921"
             ]
            ],
            "type": "contour"
           }
          ],
          "contourcarpet": [
           {
            "colorbar": {
             "outlinewidth": 0,
             "ticks": ""
            },
            "type": "contourcarpet"
           }
          ],
          "heatmap": [
           {
            "colorbar": {
             "outlinewidth": 0,
             "ticks": ""
            },
            "colorscale": [
             [
              0,
              "#0d0887"
             ],
             [
              0.1111111111111111,
              "#46039f"
             ],
             [
              0.2222222222222222,
              "#7201a8"
             ],
             [
              0.3333333333333333,
              "#9c179e"
             ],
             [
              0.4444444444444444,
              "#bd3786"
             ],
             [
              0.5555555555555556,
              "#d8576b"
             ],
             [
              0.6666666666666666,
              "#ed7953"
             ],
             [
              0.7777777777777778,
              "#fb9f3a"
             ],
             [
              0.8888888888888888,
              "#fdca26"
             ],
             [
              1,
              "#f0f921"
             ]
            ],
            "type": "heatmap"
           }
          ],
          "heatmapgl": [
           {
            "colorbar": {
             "outlinewidth": 0,
             "ticks": ""
            },
            "colorscale": [
             [
              0,
              "#0d0887"
             ],
             [
              0.1111111111111111,
              "#46039f"
             ],
             [
              0.2222222222222222,
              "#7201a8"
             ],
             [
              0.3333333333333333,
              "#9c179e"
             ],
             [
              0.4444444444444444,
              "#bd3786"
             ],
             [
              0.5555555555555556,
              "#d8576b"
             ],
             [
              0.6666666666666666,
              "#ed7953"
             ],
             [
              0.7777777777777778,
              "#fb9f3a"
             ],
             [
              0.8888888888888888,
              "#fdca26"
             ],
             [
              1,
              "#f0f921"
             ]
            ],
            "type": "heatmapgl"
           }
          ],
          "histogram": [
           {
            "marker": {
             "pattern": {
              "fillmode": "overlay",
              "size": 10,
              "solidity": 0.2
             }
            },
            "type": "histogram"
           }
          ],
          "histogram2d": [
           {
            "colorbar": {
             "outlinewidth": 0,
             "ticks": ""
            },
            "colorscale": [
             [
              0,
              "#0d0887"
             ],
             [
              0.1111111111111111,
              "#46039f"
             ],
             [
              0.2222222222222222,
              "#7201a8"
             ],
             [
              0.3333333333333333,
              "#9c179e"
             ],
             [
              0.4444444444444444,
              "#bd3786"
             ],
             [
              0.5555555555555556,
              "#d8576b"
             ],
             [
              0.6666666666666666,
              "#ed7953"
             ],
             [
              0.7777777777777778,
              "#fb9f3a"
             ],
             [
              0.8888888888888888,
              "#fdca26"
             ],
             [
              1,
              "#f0f921"
             ]
            ],
            "type": "histogram2d"
           }
          ],
          "histogram2dcontour": [
           {
            "colorbar": {
             "outlinewidth": 0,
             "ticks": ""
            },
            "colorscale": [
             [
              0,
              "#0d0887"
             ],
             [
              0.1111111111111111,
              "#46039f"
             ],
             [
              0.2222222222222222,
              "#7201a8"
             ],
             [
              0.3333333333333333,
              "#9c179e"
             ],
             [
              0.4444444444444444,
              "#bd3786"
             ],
             [
              0.5555555555555556,
              "#d8576b"
             ],
             [
              0.6666666666666666,
              "#ed7953"
             ],
             [
              0.7777777777777778,
              "#fb9f3a"
             ],
             [
              0.8888888888888888,
              "#fdca26"
             ],
             [
              1,
              "#f0f921"
             ]
            ],
            "type": "histogram2dcontour"
           }
          ],
          "mesh3d": [
           {
            "colorbar": {
             "outlinewidth": 0,
             "ticks": ""
            },
            "type": "mesh3d"
           }
          ],
          "parcoords": [
           {
            "line": {
             "colorbar": {
              "outlinewidth": 0,
              "ticks": ""
             }
            },
            "type": "parcoords"
           }
          ],
          "pie": [
           {
            "automargin": true,
            "type": "pie"
           }
          ],
          "scatter": [
           {
            "fillpattern": {
             "fillmode": "overlay",
             "size": 10,
             "solidity": 0.2
            },
            "type": "scatter"
           }
          ],
          "scatter3d": [
           {
            "line": {
             "colorbar": {
              "outlinewidth": 0,
              "ticks": ""
             }
            },
            "marker": {
             "colorbar": {
              "outlinewidth": 0,
              "ticks": ""
             }
            },
            "type": "scatter3d"
           }
          ],
          "scattercarpet": [
           {
            "marker": {
             "colorbar": {
              "outlinewidth": 0,
              "ticks": ""
             }
            },
            "type": "scattercarpet"
           }
          ],
          "scattergeo": [
           {
            "marker": {
             "colorbar": {
              "outlinewidth": 0,
              "ticks": ""
             }
            },
            "type": "scattergeo"
           }
          ],
          "scattergl": [
           {
            "marker": {
             "colorbar": {
              "outlinewidth": 0,
              "ticks": ""
             }
            },
            "type": "scattergl"
           }
          ],
          "scattermapbox": [
           {
            "marker": {
             "colorbar": {
              "outlinewidth": 0,
              "ticks": ""
             }
            },
            "type": "scattermapbox"
           }
          ],
          "scatterpolar": [
           {
            "marker": {
             "colorbar": {
              "outlinewidth": 0,
              "ticks": ""
             }
            },
            "type": "scatterpolar"
           }
          ],
          "scatterpolargl": [
           {
            "marker": {
             "colorbar": {
              "outlinewidth": 0,
              "ticks": ""
             }
            },
            "type": "scatterpolargl"
           }
          ],
          "scatterternary": [
           {
            "marker": {
             "colorbar": {
              "outlinewidth": 0,
              "ticks": ""
             }
            },
            "type": "scatterternary"
           }
          ],
          "surface": [
           {
            "colorbar": {
             "outlinewidth": 0,
             "ticks": ""
            },
            "colorscale": [
             [
              0,
              "#0d0887"
             ],
             [
              0.1111111111111111,
              "#46039f"
             ],
             [
              0.2222222222222222,
              "#7201a8"
             ],
             [
              0.3333333333333333,
              "#9c179e"
             ],
             [
              0.4444444444444444,
              "#bd3786"
             ],
             [
              0.5555555555555556,
              "#d8576b"
             ],
             [
              0.6666666666666666,
              "#ed7953"
             ],
             [
              0.7777777777777778,
              "#fb9f3a"
             ],
             [
              0.8888888888888888,
              "#fdca26"
             ],
             [
              1,
              "#f0f921"
             ]
            ],
            "type": "surface"
           }
          ],
          "table": [
           {
            "cells": {
             "fill": {
              "color": "#EBF0F8"
             },
             "line": {
              "color": "white"
             }
            },
            "header": {
             "fill": {
              "color": "#C8D4E3"
             },
             "line": {
              "color": "white"
             }
            },
            "type": "table"
           }
          ]
         },
         "layout": {
          "annotationdefaults": {
           "arrowcolor": "#2a3f5f",
           "arrowhead": 0,
           "arrowwidth": 1
          },
          "autotypenumbers": "strict",
          "coloraxis": {
           "colorbar": {
            "outlinewidth": 0,
            "ticks": ""
           }
          },
          "colorscale": {
           "diverging": [
            [
             0,
             "#8e0152"
            ],
            [
             0.1,
             "#c51b7d"
            ],
            [
             0.2,
             "#de77ae"
            ],
            [
             0.3,
             "#f1b6da"
            ],
            [
             0.4,
             "#fde0ef"
            ],
            [
             0.5,
             "#f7f7f7"
            ],
            [
             0.6,
             "#e6f5d0"
            ],
            [
             0.7,
             "#b8e186"
            ],
            [
             0.8,
             "#7fbc41"
            ],
            [
             0.9,
             "#4d9221"
            ],
            [
             1,
             "#276419"
            ]
           ],
           "sequential": [
            [
             0,
             "#0d0887"
            ],
            [
             0.1111111111111111,
             "#46039f"
            ],
            [
             0.2222222222222222,
             "#7201a8"
            ],
            [
             0.3333333333333333,
             "#9c179e"
            ],
            [
             0.4444444444444444,
             "#bd3786"
            ],
            [
             0.5555555555555556,
             "#d8576b"
            ],
            [
             0.6666666666666666,
             "#ed7953"
            ],
            [
             0.7777777777777778,
             "#fb9f3a"
            ],
            [
             0.8888888888888888,
             "#fdca26"
            ],
            [
             1,
             "#f0f921"
            ]
           ],
           "sequentialminus": [
            [
             0,
             "#0d0887"
            ],
            [
             0.1111111111111111,
             "#46039f"
            ],
            [
             0.2222222222222222,
             "#7201a8"
            ],
            [
             0.3333333333333333,
             "#9c179e"
            ],
            [
             0.4444444444444444,
             "#bd3786"
            ],
            [
             0.5555555555555556,
             "#d8576b"
            ],
            [
             0.6666666666666666,
             "#ed7953"
            ],
            [
             0.7777777777777778,
             "#fb9f3a"
            ],
            [
             0.8888888888888888,
             "#fdca26"
            ],
            [
             1,
             "#f0f921"
            ]
           ]
          },
          "colorway": [
           "#636efa",
           "#EF553B",
           "#00cc96",
           "#ab63fa",
           "#FFA15A",
           "#19d3f3",
           "#FF6692",
           "#B6E880",
           "#FF97FF",
           "#FECB52"
          ],
          "font": {
           "color": "#2a3f5f"
          },
          "geo": {
           "bgcolor": "white",
           "lakecolor": "white",
           "landcolor": "#E5ECF6",
           "showlakes": true,
           "showland": true,
           "subunitcolor": "white"
          },
          "hoverlabel": {
           "align": "left"
          },
          "hovermode": "closest",
          "mapbox": {
           "style": "light"
          },
          "paper_bgcolor": "white",
          "plot_bgcolor": "#E5ECF6",
          "polar": {
           "angularaxis": {
            "gridcolor": "white",
            "linecolor": "white",
            "ticks": ""
           },
           "bgcolor": "#E5ECF6",
           "radialaxis": {
            "gridcolor": "white",
            "linecolor": "white",
            "ticks": ""
           }
          },
          "scene": {
           "xaxis": {
            "backgroundcolor": "#E5ECF6",
            "gridcolor": "white",
            "gridwidth": 2,
            "linecolor": "white",
            "showbackground": true,
            "ticks": "",
            "zerolinecolor": "white"
           },
           "yaxis": {
            "backgroundcolor": "#E5ECF6",
            "gridcolor": "white",
            "gridwidth": 2,
            "linecolor": "white",
            "showbackground": true,
            "ticks": "",
            "zerolinecolor": "white"
           },
           "zaxis": {
            "backgroundcolor": "#E5ECF6",
            "gridcolor": "white",
            "gridwidth": 2,
            "linecolor": "white",
            "showbackground": true,
            "ticks": "",
            "zerolinecolor": "white"
           }
          },
          "shapedefaults": {
           "line": {
            "color": "#2a3f5f"
           }
          },
          "ternary": {
           "aaxis": {
            "gridcolor": "white",
            "linecolor": "white",
            "ticks": ""
           },
           "baxis": {
            "gridcolor": "white",
            "linecolor": "white",
            "ticks": ""
           },
           "bgcolor": "#E5ECF6",
           "caxis": {
            "gridcolor": "white",
            "linecolor": "white",
            "ticks": ""
           }
          },
          "title": {
           "x": 0.05
          },
          "xaxis": {
           "automargin": true,
           "gridcolor": "white",
           "linecolor": "white",
           "ticks": "",
           "title": {
            "standoff": 15
           },
           "zerolinecolor": "white",
           "zerolinewidth": 2
          },
          "yaxis": {
           "automargin": true,
           "gridcolor": "white",
           "linecolor": "white",
           "ticks": "",
           "title": {
            "standoff": 15
           },
           "zerolinecolor": "white",
           "zerolinewidth": 2
          }
         }
        },
        "width": 700
       }
      }
     },
     "metadata": {},
     "output_type": "display_data"
    }
   ],
   "source": [
    "import plotly.graph_objects as go\n",
    "\n",
    "# Kenya flag colors\n",
    "colors = {\n",
    "    \"increase\": \"#007336\",  # Green\n",
    "    \"decrease\": \"#BB0000\",  # Red\n",
    "    \"text\": \"#000000\",      # Black\n",
    "    \"bg\": \"#FFFFFF\"         # White\n",
    "}\n",
    "\n",
    "# ---- 1. Setup ----\n",
    "current_month = \"Jan_23\"\n",
    "month_columns = [col for col in dt.columns if col != 'Region/Country']\n",
    "\n",
    "# ---- 2. Compute \"same month last year\" ----\n",
    "month_name, year_suffix = current_month.split(\"_\")\n",
    "previous_year = f\"{month_name}_{int(year_suffix) - 1:02d}\"\n",
    "\n",
    "# Make sure it exists in the data\n",
    "if previous_year not in month_columns:\n",
    "    raise ValueError(f\"{previous_year} not found in DataFrame\")\n",
    "\n",
    "# ---- 3. Get values ----\n",
    "current_total = dt[current_month].sum()\n",
    "previous_total = dt[previous_year].sum()\n",
    "difference = current_total - previous_total\n",
    "pct_change = (difference / previous_total * 100) if previous_total else 0\n",
    "change_color = colors[\"increase\"] if difference >= 0 else colors[\"decrease\"]\n",
    "change_direction = \"▲\" if difference >= 0 else \"▼\"\n",
    "\n",
    "# ---- 4. Visualization ----\n",
    "fig = go.Figure()\n",
    "\n",
    "# Main change indicator (year-over-year)\n",
    "fig.add_trace(go.Indicator(\n",
    "    mode=\"number\",\n",
    "    value=abs(difference),\n",
    "    number={\n",
    "        \"prefix\": f\"<span style='color:{change_color};font-size:0.8em'>{change_direction} $</span>\",\n",
    "        \"valueformat\": \",\",\n",
    "        \"font\": {\"size\": 58, \"color\": change_color}\n",
    "    },\n",
    "    title={\n",
    "        \"text\": f\"<b>CHANGE from {previous_year.replace('_', ' ').upper()}</b>\",\n",
    "        \"font\": {\"size\": 24, \"color\": colors[\"text\"]}\n",
    "    },\n",
    "    domain={'x': [0.3, 0.7], 'y': [0.6, 0.9]}\n",
    "))\n",
    "\n",
    "# Secondary: Current month total\n",
    "fig.add_trace(go.Indicator(\n",
    "    mode=\"number\",\n",
    "    value=current_total,\n",
    "    number={\n",
    "        \"prefix\": \"<span style='font-size:0.6em'>$</span>\",\n",
    "        \"valueformat\": \",\",\n",
    "        \"font\": {\"size\": 32, \"color\": colors[\"text\"]}\n",
    "    },\n",
    "    title={\n",
    "        \"text\": f\"{current_month.replace('_', ' ').upper()} Total\",\n",
    "        \"font\": {\"size\": 18, \"color\": colors[\"text\"]}\n",
    "    },\n",
    "    domain={'x': [0.2, 0.45], 'y': [0.2, 0.4]}\n",
    "))\n",
    "\n",
    "# Secondary: Percentage change\n",
    "fig.add_trace(go.Indicator(\n",
    "    mode=\"number\",\n",
    "    value=abs(pct_change),\n",
    "    number={\n",
    "        \"suffix\": \"%\",\n",
    "        \"valueformat\": \".1f\",\n",
    "        \"font\": {\"size\": 32, \"color\": change_color}\n",
    "    },\n",
    "    title={\n",
    "        \"text\": \"YoY % Change\",\n",
    "        \"font\": {\"size\": 18, \"color\": colors[\"text\"]}\n",
    "    },\n",
    "    domain={'x': [0.55, 0.8], 'y': [0.2, 0.4]}\n",
    "))\n",
    "\n",
    "# Annotation\n",
    "fig.add_annotation(\n",
    "    x=0.5, y=-0.1,\n",
    "    text=f\"From {previous_year.replace('_', ' ').upper()} Total: ${previous_total:,}\",\n",
    "    showarrow=False,\n",
    "    font={\"size\": 16, \"color\": colors[\"text\"]}\n",
    ")\n",
    "\n",
    "# Layout\n",
    "fig.update_layout(\n",
    "    plot_bgcolor=colors[\"bg\"],\n",
    "    paper_bgcolor=colors[\"bg\"],\n",
    "    margin=dict(l=50, r=50, t=80, b=20),\n",
    "    height=250,\n",
    "    width=700,\n",
    "    font={\"family\": \"Arial\"}\n",
    ")\n",
    "\n",
    "fig.show()\n"
   ]
  },
  {
   "cell_type": "code",
   "execution_count": 11,
   "id": "85d26070",
   "metadata": {},
   "outputs": [
    {
     "data": {
      "text/plain": [
       "0                  U.S.A\n",
       "1                 Canada\n",
       "2                Bahamas\n",
       "3         United Kingdom\n",
       "4                Germany\n",
       "5            Switzerland\n",
       "6            Netherlands\n",
       "7                  Italy\n",
       "8                 Sweden\n",
       "9                 France\n",
       "Name: Region/Country, dtype: object"
      ]
     },
     "execution_count": 11,
     "metadata": {},
     "output_type": "execute_result"
    }
   ],
   "source": [
    "df[\"Region/Country\"].head(10)"
   ]
  },
  {
   "cell_type": "code",
   "execution_count": 9,
   "id": "e7336b67",
   "metadata": {},
   "outputs": [
    {
     "data": {
      "text/plain": [
       "Index(['Region/Country', 'Jan_20', 'Feb_20', 'Mar_20', 'Apr_20', 'May_20',\n",
       "       'Jun_20', 'Jul_20', 'Aug_20', 'Sep_20', 'Oct_20', 'Nov_20', 'Dec_20',\n",
       "       'Jan_21', 'Feb_21', 'Mar_21', 'Apr_21', 'May_21', 'Jun_21', 'Jul_21',\n",
       "       'Aug_21', 'Sep_21', 'Oct_21', 'Nov_21', 'Dec_21', 'Jan_22', 'Feb_22',\n",
       "       'Mar_22', 'Apr_22', 'May_22', 'Jun_22', 'Jul_22', 'Aug_22', 'Sep_22',\n",
       "       'Oct_22', 'Nov_22', 'Dec_22', 'Jan_23', 'Feb_23', 'Mar_23', 'Apr_23',\n",
       "       'May_23', 'Jun_23', 'Jul_23', 'Aug_23', 'Sep_23', 'Oct_23', 'Nov_23',\n",
       "       'Dec_23', 'Jan_24', 'Feb_24', 'Mar_24', 'Apr_24', 'May_24', 'Jun_24',\n",
       "       'Jul_24', 'Aug_24', 'Sep_24', 'Oct_24', 'Nov_24', 'Dec_24', 'Jan_25',\n",
       "       'Feb_25', 'Mar_25', 'Apr_25'],\n",
       "      dtype='object')"
      ]
     },
     "execution_count": 9,
     "metadata": {},
     "output_type": "execute_result"
    }
   ],
   "source": [
    "df.columns"
   ]
  },
  {
   "cell_type": "code",
   "execution_count": 33,
   "id": "68620148",
   "metadata": {},
   "outputs": [
    {
     "data": {
      "application/vnd.plotly.v1+json": {
       "config": {
        "plotlyServerURL": "https://plot.ly"
       },
       "data": [
        {
         "hovertemplate": "%{y}: %{text}<extra></extra>",
         "marker": {
          "color": [
           "#BB0000",
           "#BB0000",
           "#BB0000",
           "#BB0000",
           "#BB0000",
           "#007336",
           "#007336",
           "#007336",
           "#007336",
           "#007336"
          ]
         },
         "orientation": "h",
         "text": [
          "$-21,932",
          "$-6,035",
          "$-3,565",
          "$-2,917",
          "$-1,399",
          "$204",
          "$238",
          "$1,380",
          "$1,395",
          "$2,469"
         ],
         "textposition": "auto",
         "type": "bar",
         "x": [
          -21932.04849925294,
          -6035.420912992926,
          -3564.505687550207,
          -2916.6096311476895,
          -1399.1914753617789,
          203.5429672872599,
          238.06782447257956,
          1379.9300240860807,
          1394.698896136099,
          2469.2937244111417
         ],
         "y": [
          "     U.S.A",
          "     Saudia Arabia",
          "     Germany",
          "     Australia",
          "     Qatar",
          "     India",
          "     Nigeria",
          "     Uganda",
          "     United Arab Emirates",
          "     United Kingdom"
         ]
        }
       ],
       "layout": {
        "font": {
         "size": 14
        },
        "height": 500,
        "margin": {
         "b": 40,
         "l": 40,
         "r": 40,
         "t": 80
        },
        "paper_bgcolor": "#FFFFFF",
        "plot_bgcolor": "#FFFFFF",
        "template": {
         "data": {
          "bar": [
           {
            "error_x": {
             "color": "#2a3f5f"
            },
            "error_y": {
             "color": "#2a3f5f"
            },
            "marker": {
             "line": {
              "color": "#E5ECF6",
              "width": 0.5
             },
             "pattern": {
              "fillmode": "overlay",
              "size": 10,
              "solidity": 0.2
             }
            },
            "type": "bar"
           }
          ],
          "barpolar": [
           {
            "marker": {
             "line": {
              "color": "#E5ECF6",
              "width": 0.5
             },
             "pattern": {
              "fillmode": "overlay",
              "size": 10,
              "solidity": 0.2
             }
            },
            "type": "barpolar"
           }
          ],
          "carpet": [
           {
            "aaxis": {
             "endlinecolor": "#2a3f5f",
             "gridcolor": "white",
             "linecolor": "white",
             "minorgridcolor": "white",
             "startlinecolor": "#2a3f5f"
            },
            "baxis": {
             "endlinecolor": "#2a3f5f",
             "gridcolor": "white",
             "linecolor": "white",
             "minorgridcolor": "white",
             "startlinecolor": "#2a3f5f"
            },
            "type": "carpet"
           }
          ],
          "choropleth": [
           {
            "colorbar": {
             "outlinewidth": 0,
             "ticks": ""
            },
            "type": "choropleth"
           }
          ],
          "contour": [
           {
            "colorbar": {
             "outlinewidth": 0,
             "ticks": ""
            },
            "colorscale": [
             [
              0,
              "#0d0887"
             ],
             [
              0.1111111111111111,
              "#46039f"
             ],
             [
              0.2222222222222222,
              "#7201a8"
             ],
             [
              0.3333333333333333,
              "#9c179e"
             ],
             [
              0.4444444444444444,
              "#bd3786"
             ],
             [
              0.5555555555555556,
              "#d8576b"
             ],
             [
              0.6666666666666666,
              "#ed7953"
             ],
             [
              0.7777777777777778,
              "#fb9f3a"
             ],
             [
              0.8888888888888888,
              "#fdca26"
             ],
             [
              1,
              "#f0f921"
             ]
            ],
            "type": "contour"
           }
          ],
          "contourcarpet": [
           {
            "colorbar": {
             "outlinewidth": 0,
             "ticks": ""
            },
            "type": "contourcarpet"
           }
          ],
          "heatmap": [
           {
            "colorbar": {
             "outlinewidth": 0,
             "ticks": ""
            },
            "colorscale": [
             [
              0,
              "#0d0887"
             ],
             [
              0.1111111111111111,
              "#46039f"
             ],
             [
              0.2222222222222222,
              "#7201a8"
             ],
             [
              0.3333333333333333,
              "#9c179e"
             ],
             [
              0.4444444444444444,
              "#bd3786"
             ],
             [
              0.5555555555555556,
              "#d8576b"
             ],
             [
              0.6666666666666666,
              "#ed7953"
             ],
             [
              0.7777777777777778,
              "#fb9f3a"
             ],
             [
              0.8888888888888888,
              "#fdca26"
             ],
             [
              1,
              "#f0f921"
             ]
            ],
            "type": "heatmap"
           }
          ],
          "heatmapgl": [
           {
            "colorbar": {
             "outlinewidth": 0,
             "ticks": ""
            },
            "colorscale": [
             [
              0,
              "#0d0887"
             ],
             [
              0.1111111111111111,
              "#46039f"
             ],
             [
              0.2222222222222222,
              "#7201a8"
             ],
             [
              0.3333333333333333,
              "#9c179e"
             ],
             [
              0.4444444444444444,
              "#bd3786"
             ],
             [
              0.5555555555555556,
              "#d8576b"
             ],
             [
              0.6666666666666666,
              "#ed7953"
             ],
             [
              0.7777777777777778,
              "#fb9f3a"
             ],
             [
              0.8888888888888888,
              "#fdca26"
             ],
             [
              1,
              "#f0f921"
             ]
            ],
            "type": "heatmapgl"
           }
          ],
          "histogram": [
           {
            "marker": {
             "pattern": {
              "fillmode": "overlay",
              "size": 10,
              "solidity": 0.2
             }
            },
            "type": "histogram"
           }
          ],
          "histogram2d": [
           {
            "colorbar": {
             "outlinewidth": 0,
             "ticks": ""
            },
            "colorscale": [
             [
              0,
              "#0d0887"
             ],
             [
              0.1111111111111111,
              "#46039f"
             ],
             [
              0.2222222222222222,
              "#7201a8"
             ],
             [
              0.3333333333333333,
              "#9c179e"
             ],
             [
              0.4444444444444444,
              "#bd3786"
             ],
             [
              0.5555555555555556,
              "#d8576b"
             ],
             [
              0.6666666666666666,
              "#ed7953"
             ],
             [
              0.7777777777777778,
              "#fb9f3a"
             ],
             [
              0.8888888888888888,
              "#fdca26"
             ],
             [
              1,
              "#f0f921"
             ]
            ],
            "type": "histogram2d"
           }
          ],
          "histogram2dcontour": [
           {
            "colorbar": {
             "outlinewidth": 0,
             "ticks": ""
            },
            "colorscale": [
             [
              0,
              "#0d0887"
             ],
             [
              0.1111111111111111,
              "#46039f"
             ],
             [
              0.2222222222222222,
              "#7201a8"
             ],
             [
              0.3333333333333333,
              "#9c179e"
             ],
             [
              0.4444444444444444,
              "#bd3786"
             ],
             [
              0.5555555555555556,
              "#d8576b"
             ],
             [
              0.6666666666666666,
              "#ed7953"
             ],
             [
              0.7777777777777778,
              "#fb9f3a"
             ],
             [
              0.8888888888888888,
              "#fdca26"
             ],
             [
              1,
              "#f0f921"
             ]
            ],
            "type": "histogram2dcontour"
           }
          ],
          "mesh3d": [
           {
            "colorbar": {
             "outlinewidth": 0,
             "ticks": ""
            },
            "type": "mesh3d"
           }
          ],
          "parcoords": [
           {
            "line": {
             "colorbar": {
              "outlinewidth": 0,
              "ticks": ""
             }
            },
            "type": "parcoords"
           }
          ],
          "pie": [
           {
            "automargin": true,
            "type": "pie"
           }
          ],
          "scatter": [
           {
            "fillpattern": {
             "fillmode": "overlay",
             "size": 10,
             "solidity": 0.2
            },
            "type": "scatter"
           }
          ],
          "scatter3d": [
           {
            "line": {
             "colorbar": {
              "outlinewidth": 0,
              "ticks": ""
             }
            },
            "marker": {
             "colorbar": {
              "outlinewidth": 0,
              "ticks": ""
             }
            },
            "type": "scatter3d"
           }
          ],
          "scattercarpet": [
           {
            "marker": {
             "colorbar": {
              "outlinewidth": 0,
              "ticks": ""
             }
            },
            "type": "scattercarpet"
           }
          ],
          "scattergeo": [
           {
            "marker": {
             "colorbar": {
              "outlinewidth": 0,
              "ticks": ""
             }
            },
            "type": "scattergeo"
           }
          ],
          "scattergl": [
           {
            "marker": {
             "colorbar": {
              "outlinewidth": 0,
              "ticks": ""
             }
            },
            "type": "scattergl"
           }
          ],
          "scattermapbox": [
           {
            "marker": {
             "colorbar": {
              "outlinewidth": 0,
              "ticks": ""
             }
            },
            "type": "scattermapbox"
           }
          ],
          "scatterpolar": [
           {
            "marker": {
             "colorbar": {
              "outlinewidth": 0,
              "ticks": ""
             }
            },
            "type": "scatterpolar"
           }
          ],
          "scatterpolargl": [
           {
            "marker": {
             "colorbar": {
              "outlinewidth": 0,
              "ticks": ""
             }
            },
            "type": "scatterpolargl"
           }
          ],
          "scatterternary": [
           {
            "marker": {
             "colorbar": {
              "outlinewidth": 0,
              "ticks": ""
             }
            },
            "type": "scatterternary"
           }
          ],
          "surface": [
           {
            "colorbar": {
             "outlinewidth": 0,
             "ticks": ""
            },
            "colorscale": [
             [
              0,
              "#0d0887"
             ],
             [
              0.1111111111111111,
              "#46039f"
             ],
             [
              0.2222222222222222,
              "#7201a8"
             ],
             [
              0.3333333333333333,
              "#9c179e"
             ],
             [
              0.4444444444444444,
              "#bd3786"
             ],
             [
              0.5555555555555556,
              "#d8576b"
             ],
             [
              0.6666666666666666,
              "#ed7953"
             ],
             [
              0.7777777777777778,
              "#fb9f3a"
             ],
             [
              0.8888888888888888,
              "#fdca26"
             ],
             [
              1,
              "#f0f921"
             ]
            ],
            "type": "surface"
           }
          ],
          "table": [
           {
            "cells": {
             "fill": {
              "color": "#EBF0F8"
             },
             "line": {
              "color": "white"
             }
            },
            "header": {
             "fill": {
              "color": "#C8D4E3"
             },
             "line": {
              "color": "white"
             }
            },
            "type": "table"
           }
          ]
         },
         "layout": {
          "annotationdefaults": {
           "arrowcolor": "#2a3f5f",
           "arrowhead": 0,
           "arrowwidth": 1
          },
          "autotypenumbers": "strict",
          "coloraxis": {
           "colorbar": {
            "outlinewidth": 0,
            "ticks": ""
           }
          },
          "colorscale": {
           "diverging": [
            [
             0,
             "#8e0152"
            ],
            [
             0.1,
             "#c51b7d"
            ],
            [
             0.2,
             "#de77ae"
            ],
            [
             0.3,
             "#f1b6da"
            ],
            [
             0.4,
             "#fde0ef"
            ],
            [
             0.5,
             "#f7f7f7"
            ],
            [
             0.6,
             "#e6f5d0"
            ],
            [
             0.7,
             "#b8e186"
            ],
            [
             0.8,
             "#7fbc41"
            ],
            [
             0.9,
             "#4d9221"
            ],
            [
             1,
             "#276419"
            ]
           ],
           "sequential": [
            [
             0,
             "#0d0887"
            ],
            [
             0.1111111111111111,
             "#46039f"
            ],
            [
             0.2222222222222222,
             "#7201a8"
            ],
            [
             0.3333333333333333,
             "#9c179e"
            ],
            [
             0.4444444444444444,
             "#bd3786"
            ],
            [
             0.5555555555555556,
             "#d8576b"
            ],
            [
             0.6666666666666666,
             "#ed7953"
            ],
            [
             0.7777777777777778,
             "#fb9f3a"
            ],
            [
             0.8888888888888888,
             "#fdca26"
            ],
            [
             1,
             "#f0f921"
            ]
           ],
           "sequentialminus": [
            [
             0,
             "#0d0887"
            ],
            [
             0.1111111111111111,
             "#46039f"
            ],
            [
             0.2222222222222222,
             "#7201a8"
            ],
            [
             0.3333333333333333,
             "#9c179e"
            ],
            [
             0.4444444444444444,
             "#bd3786"
            ],
            [
             0.5555555555555556,
             "#d8576b"
            ],
            [
             0.6666666666666666,
             "#ed7953"
            ],
            [
             0.7777777777777778,
             "#fb9f3a"
            ],
            [
             0.8888888888888888,
             "#fdca26"
            ],
            [
             1,
             "#f0f921"
            ]
           ]
          },
          "colorway": [
           "#636efa",
           "#EF553B",
           "#00cc96",
           "#ab63fa",
           "#FFA15A",
           "#19d3f3",
           "#FF6692",
           "#B6E880",
           "#FF97FF",
           "#FECB52"
          ],
          "font": {
           "color": "#2a3f5f"
          },
          "geo": {
           "bgcolor": "white",
           "lakecolor": "white",
           "landcolor": "#E5ECF6",
           "showlakes": true,
           "showland": true,
           "subunitcolor": "white"
          },
          "hoverlabel": {
           "align": "left"
          },
          "hovermode": "closest",
          "mapbox": {
           "style": "light"
          },
          "paper_bgcolor": "white",
          "plot_bgcolor": "#E5ECF6",
          "polar": {
           "angularaxis": {
            "gridcolor": "white",
            "linecolor": "white",
            "ticks": ""
           },
           "bgcolor": "#E5ECF6",
           "radialaxis": {
            "gridcolor": "white",
            "linecolor": "white",
            "ticks": ""
           }
          },
          "scene": {
           "xaxis": {
            "backgroundcolor": "#E5ECF6",
            "gridcolor": "white",
            "gridwidth": 2,
            "linecolor": "white",
            "showbackground": true,
            "ticks": "",
            "zerolinecolor": "white"
           },
           "yaxis": {
            "backgroundcolor": "#E5ECF6",
            "gridcolor": "white",
            "gridwidth": 2,
            "linecolor": "white",
            "showbackground": true,
            "ticks": "",
            "zerolinecolor": "white"
           },
           "zaxis": {
            "backgroundcolor": "#E5ECF6",
            "gridcolor": "white",
            "gridwidth": 2,
            "linecolor": "white",
            "showbackground": true,
            "ticks": "",
            "zerolinecolor": "white"
           }
          },
          "shapedefaults": {
           "line": {
            "color": "#2a3f5f"
           }
          },
          "ternary": {
           "aaxis": {
            "gridcolor": "white",
            "linecolor": "white",
            "ticks": ""
           },
           "baxis": {
            "gridcolor": "white",
            "linecolor": "white",
            "ticks": ""
           },
           "bgcolor": "#E5ECF6",
           "caxis": {
            "gridcolor": "white",
            "linecolor": "white",
            "ticks": ""
           }
          },
          "title": {
           "x": 0.05
          },
          "xaxis": {
           "automargin": true,
           "gridcolor": "white",
           "linecolor": "white",
           "ticks": "",
           "title": {
            "standoff": 15
           },
           "zerolinecolor": "white",
           "zerolinewidth": 2
          },
          "yaxis": {
           "automargin": true,
           "gridcolor": "white",
           "linecolor": "white",
           "ticks": "",
           "title": {
            "standoff": 15
           },
           "zerolinecolor": "white",
           "zerolinewidth": 2
          }
         }
        },
        "title": {
         "text": "Top 5 Countries with Increase and Decrease in Remittance<br>(Jan 23 → Feb 23)"
        },
        "xaxis": {
         "title": {
          "text": "Change in Remittance (USD)"
         }
        },
        "yaxis": {
         "title": {
          "text": "Region/Country"
         }
        }
       }
      }
     },
     "metadata": {},
     "output_type": "display_data"
    }
   ],
   "source": [
    "import plotly.graph_objects as go\n",
    "import pandas as pd\n",
    "\n",
    "# 1. Define current month\n",
    "current_month = \"Feb_23\"\n",
    "month_columns = [col for col in df.columns if col != 'Region/Country']\n",
    "current_index = month_columns.index(current_month)\n",
    "previous_month = month_columns[current_index - 1] if current_index > 0 else None\n",
    "\n",
    "# 2. Compute difference\n",
    "df['Difference'] = df[current_month] - df[previous_month]\n",
    "\n",
    "# 3. Get top 5 increases and top 5 decreases\n",
    "df_sorted = df[['Region/Country', 'Difference']].copy()\n",
    "top_increase = df_sorted.sort_values(by='Difference', ascending=False).head(5)\n",
    "top_decrease = df_sorted.sort_values(by='Difference', ascending=True).head(5)\n",
    "\n",
    "# 4. Combine them\n",
    "combined = pd.concat([top_increase, top_decrease]).sort_values(by='Difference')\n",
    "\n",
    "# 5. Make horizontal bar chart\n",
    "fig = go.Figure()\n",
    "\n",
    "# Add bars\n",
    "fig.add_trace(go.Bar(\n",
    "    y=combined['Region/Country'],\n",
    "    x=combined['Difference'],\n",
    "    orientation='h',\n",
    "    marker_color=combined['Difference'].apply(lambda x: '#007336' if x >= 0 else '#BB0000'),  # green or red\n",
    "    text=combined['Difference'].apply(lambda x: f\"${x:,.0f}\"),\n",
    "    textposition='auto',\n",
    "    hovertemplate='%{y}: %{text}<extra></extra>',\n",
    "))\n",
    "\n",
    "# 6. Layout\n",
    "fig.update_layout(\n",
    "    title=f\"Top 5 Countries with Increase and Decrease in Remittance<br>({previous_month.replace('_', ' ')} → {current_month.replace('_', ' ')})\",\n",
    "    xaxis_title=\"Change in Remittance (USD)\",\n",
    "    yaxis_title=\"Region/Country\",\n",
    "    plot_bgcolor=\"#FFFFFF\",\n",
    "    paper_bgcolor=\"#FFFFFF\",\n",
    "    height=500,\n",
    "    margin=dict(l=40, r=40, t=80, b=40),\n",
    "    font=dict(size=14),\n",
    ")\n",
    "\n",
    "fig.show()\n"
   ]
  },
  {
   "cell_type": "code",
   "execution_count": 34,
   "id": "0ed9552f",
   "metadata": {},
   "outputs": [
    {
     "data": {
      "application/vnd.plotly.v1+json": {
       "config": {
        "plotlyServerURL": "https://plot.ly"
       },
       "data": [
        {
         "mode": "lines+markers",
         "name": "     U.S.A",
         "type": "scatter",
         "x": [
          "Mar_22",
          "Apr_22",
          "May_22",
          "Jun_22",
          "Jul_22",
          "Aug_22",
          "Sep_22",
          "Oct_22",
          "Nov_22",
          "Dec_22",
          "Jan_23",
          "Feb_23"
         ],
         "y": [
          213806.0357100393,
          210810.695145804,
          195145.853168436,
          183360.96,
          184865.4143017899,
          181585.5621588544,
          186426.42209487,
          191552.00611303,
          192760.20557517372,
          198478.15646169268,
          204314.3,
          182382.25150074705
         ]
        },
        {
         "mode": "lines+markers",
         "name": "     United Kingdom",
         "type": "scatter",
         "x": [
          "Mar_22",
          "Apr_22",
          "May_22",
          "Jun_22",
          "Jul_22",
          "Aug_22",
          "Sep_22",
          "Oct_22",
          "Nov_22",
          "Dec_22",
          "Jan_23",
          "Feb_23"
         ],
         "y": [
          26890.70090175427,
          27267.790940787403,
          26344.08970962521,
          26801.13,
          26014.5928720879,
          27425.3595420953,
          25579.0934485282,
          30570.95,
          33332.35639684899,
          31609.50561084653,
          22718.2828295595,
          25187.57655397064
         ]
        },
        {
         "mode": "lines+markers",
         "name": "     Saudia Arabia",
         "type": "scatter",
         "x": [
          "Mar_22",
          "Apr_22",
          "May_22",
          "Jun_22",
          "Jul_22",
          "Aug_22",
          "Sep_22",
          "Oct_22",
          "Nov_22",
          "Dec_22",
          "Jan_23",
          "Feb_23"
         ],
         "y": [
          25638.10226477976,
          23950.908973909463,
          26435.709135097342,
          24438.494761272246,
          22601.499065598782,
          26614.935407870795,
          27115.067576185265,
          28062.438408853668,
          26664.627278316788,
          31626.944943898023,
          30391.661407909545,
          24356.24049491662
         ]
        },
        {
         "mode": "lines+markers",
         "name": "     Germany",
         "type": "scatter",
         "x": [
          "Mar_22",
          "Apr_22",
          "May_22",
          "Jun_22",
          "Jul_22",
          "Aug_22",
          "Sep_22",
          "Oct_22",
          "Nov_22",
          "Dec_22",
          "Jan_23",
          "Feb_23"
         ],
         "y": [
          11269.94881604845,
          10170.534415183629,
          11410.555512319534,
          10130.7345845068,
          10289.51310548157,
          9754.845993568524,
          8855.873029498749,
          9977.432030918964,
          13317.842012851568,
          14466.365542558671,
          14432.56752940852,
          10868.061841858313
         ]
        },
        {
         "mode": "lines+markers",
         "name": "     Australia",
         "type": "scatter",
         "x": [
          "Mar_22",
          "Apr_22",
          "May_22",
          "Jun_22",
          "Jul_22",
          "Aug_22",
          "Sep_22",
          "Oct_22",
          "Nov_22",
          "Dec_22",
          "Jan_23",
          "Feb_23"
         ],
         "y": [
          10703.321647137383,
          11226.332392085322,
          10686.369067419984,
          9956.55353893763,
          10281.33463890404,
          7546.759742089746,
          6000.666723632054,
          8229.697602344113,
          7638.248555852539,
          7561.144112583815,
          9327.63494015047,
          6411.025309002781
         ]
        }
       ],
       "layout": {
        "height": 600,
        "legend": {
         "title": {
          "text": "Region/Country"
         }
        },
        "template": {
         "data": {
          "bar": [
           {
            "error_x": {
             "color": "#2a3f5f"
            },
            "error_y": {
             "color": "#2a3f5f"
            },
            "marker": {
             "line": {
              "color": "#E5ECF6",
              "width": 0.5
             },
             "pattern": {
              "fillmode": "overlay",
              "size": 10,
              "solidity": 0.2
             }
            },
            "type": "bar"
           }
          ],
          "barpolar": [
           {
            "marker": {
             "line": {
              "color": "#E5ECF6",
              "width": 0.5
             },
             "pattern": {
              "fillmode": "overlay",
              "size": 10,
              "solidity": 0.2
             }
            },
            "type": "barpolar"
           }
          ],
          "carpet": [
           {
            "aaxis": {
             "endlinecolor": "#2a3f5f",
             "gridcolor": "white",
             "linecolor": "white",
             "minorgridcolor": "white",
             "startlinecolor": "#2a3f5f"
            },
            "baxis": {
             "endlinecolor": "#2a3f5f",
             "gridcolor": "white",
             "linecolor": "white",
             "minorgridcolor": "white",
             "startlinecolor": "#2a3f5f"
            },
            "type": "carpet"
           }
          ],
          "choropleth": [
           {
            "colorbar": {
             "outlinewidth": 0,
             "ticks": ""
            },
            "type": "choropleth"
           }
          ],
          "contour": [
           {
            "colorbar": {
             "outlinewidth": 0,
             "ticks": ""
            },
            "colorscale": [
             [
              0,
              "#0d0887"
             ],
             [
              0.1111111111111111,
              "#46039f"
             ],
             [
              0.2222222222222222,
              "#7201a8"
             ],
             [
              0.3333333333333333,
              "#9c179e"
             ],
             [
              0.4444444444444444,
              "#bd3786"
             ],
             [
              0.5555555555555556,
              "#d8576b"
             ],
             [
              0.6666666666666666,
              "#ed7953"
             ],
             [
              0.7777777777777778,
              "#fb9f3a"
             ],
             [
              0.8888888888888888,
              "#fdca26"
             ],
             [
              1,
              "#f0f921"
             ]
            ],
            "type": "contour"
           }
          ],
          "contourcarpet": [
           {
            "colorbar": {
             "outlinewidth": 0,
             "ticks": ""
            },
            "type": "contourcarpet"
           }
          ],
          "heatmap": [
           {
            "colorbar": {
             "outlinewidth": 0,
             "ticks": ""
            },
            "colorscale": [
             [
              0,
              "#0d0887"
             ],
             [
              0.1111111111111111,
              "#46039f"
             ],
             [
              0.2222222222222222,
              "#7201a8"
             ],
             [
              0.3333333333333333,
              "#9c179e"
             ],
             [
              0.4444444444444444,
              "#bd3786"
             ],
             [
              0.5555555555555556,
              "#d8576b"
             ],
             [
              0.6666666666666666,
              "#ed7953"
             ],
             [
              0.7777777777777778,
              "#fb9f3a"
             ],
             [
              0.8888888888888888,
              "#fdca26"
             ],
             [
              1,
              "#f0f921"
             ]
            ],
            "type": "heatmap"
           }
          ],
          "heatmapgl": [
           {
            "colorbar": {
             "outlinewidth": 0,
             "ticks": ""
            },
            "colorscale": [
             [
              0,
              "#0d0887"
             ],
             [
              0.1111111111111111,
              "#46039f"
             ],
             [
              0.2222222222222222,
              "#7201a8"
             ],
             [
              0.3333333333333333,
              "#9c179e"
             ],
             [
              0.4444444444444444,
              "#bd3786"
             ],
             [
              0.5555555555555556,
              "#d8576b"
             ],
             [
              0.6666666666666666,
              "#ed7953"
             ],
             [
              0.7777777777777778,
              "#fb9f3a"
             ],
             [
              0.8888888888888888,
              "#fdca26"
             ],
             [
              1,
              "#f0f921"
             ]
            ],
            "type": "heatmapgl"
           }
          ],
          "histogram": [
           {
            "marker": {
             "pattern": {
              "fillmode": "overlay",
              "size": 10,
              "solidity": 0.2
             }
            },
            "type": "histogram"
           }
          ],
          "histogram2d": [
           {
            "colorbar": {
             "outlinewidth": 0,
             "ticks": ""
            },
            "colorscale": [
             [
              0,
              "#0d0887"
             ],
             [
              0.1111111111111111,
              "#46039f"
             ],
             [
              0.2222222222222222,
              "#7201a8"
             ],
             [
              0.3333333333333333,
              "#9c179e"
             ],
             [
              0.4444444444444444,
              "#bd3786"
             ],
             [
              0.5555555555555556,
              "#d8576b"
             ],
             [
              0.6666666666666666,
              "#ed7953"
             ],
             [
              0.7777777777777778,
              "#fb9f3a"
             ],
             [
              0.8888888888888888,
              "#fdca26"
             ],
             [
              1,
              "#f0f921"
             ]
            ],
            "type": "histogram2d"
           }
          ],
          "histogram2dcontour": [
           {
            "colorbar": {
             "outlinewidth": 0,
             "ticks": ""
            },
            "colorscale": [
             [
              0,
              "#0d0887"
             ],
             [
              0.1111111111111111,
              "#46039f"
             ],
             [
              0.2222222222222222,
              "#7201a8"
             ],
             [
              0.3333333333333333,
              "#9c179e"
             ],
             [
              0.4444444444444444,
              "#bd3786"
             ],
             [
              0.5555555555555556,
              "#d8576b"
             ],
             [
              0.6666666666666666,
              "#ed7953"
             ],
             [
              0.7777777777777778,
              "#fb9f3a"
             ],
             [
              0.8888888888888888,
              "#fdca26"
             ],
             [
              1,
              "#f0f921"
             ]
            ],
            "type": "histogram2dcontour"
           }
          ],
          "mesh3d": [
           {
            "colorbar": {
             "outlinewidth": 0,
             "ticks": ""
            },
            "type": "mesh3d"
           }
          ],
          "parcoords": [
           {
            "line": {
             "colorbar": {
              "outlinewidth": 0,
              "ticks": ""
             }
            },
            "type": "parcoords"
           }
          ],
          "pie": [
           {
            "automargin": true,
            "type": "pie"
           }
          ],
          "scatter": [
           {
            "fillpattern": {
             "fillmode": "overlay",
             "size": 10,
             "solidity": 0.2
            },
            "type": "scatter"
           }
          ],
          "scatter3d": [
           {
            "line": {
             "colorbar": {
              "outlinewidth": 0,
              "ticks": ""
             }
            },
            "marker": {
             "colorbar": {
              "outlinewidth": 0,
              "ticks": ""
             }
            },
            "type": "scatter3d"
           }
          ],
          "scattercarpet": [
           {
            "marker": {
             "colorbar": {
              "outlinewidth": 0,
              "ticks": ""
             }
            },
            "type": "scattercarpet"
           }
          ],
          "scattergeo": [
           {
            "marker": {
             "colorbar": {
              "outlinewidth": 0,
              "ticks": ""
             }
            },
            "type": "scattergeo"
           }
          ],
          "scattergl": [
           {
            "marker": {
             "colorbar": {
              "outlinewidth": 0,
              "ticks": ""
             }
            },
            "type": "scattergl"
           }
          ],
          "scattermapbox": [
           {
            "marker": {
             "colorbar": {
              "outlinewidth": 0,
              "ticks": ""
             }
            },
            "type": "scattermapbox"
           }
          ],
          "scatterpolar": [
           {
            "marker": {
             "colorbar": {
              "outlinewidth": 0,
              "ticks": ""
             }
            },
            "type": "scatterpolar"
           }
          ],
          "scatterpolargl": [
           {
            "marker": {
             "colorbar": {
              "outlinewidth": 0,
              "ticks": ""
             }
            },
            "type": "scatterpolargl"
           }
          ],
          "scatterternary": [
           {
            "marker": {
             "colorbar": {
              "outlinewidth": 0,
              "ticks": ""
             }
            },
            "type": "scatterternary"
           }
          ],
          "surface": [
           {
            "colorbar": {
             "outlinewidth": 0,
             "ticks": ""
            },
            "colorscale": [
             [
              0,
              "#0d0887"
             ],
             [
              0.1111111111111111,
              "#46039f"
             ],
             [
              0.2222222222222222,
              "#7201a8"
             ],
             [
              0.3333333333333333,
              "#9c179e"
             ],
             [
              0.4444444444444444,
              "#bd3786"
             ],
             [
              0.5555555555555556,
              "#d8576b"
             ],
             [
              0.6666666666666666,
              "#ed7953"
             ],
             [
              0.7777777777777778,
              "#fb9f3a"
             ],
             [
              0.8888888888888888,
              "#fdca26"
             ],
             [
              1,
              "#f0f921"
             ]
            ],
            "type": "surface"
           }
          ],
          "table": [
           {
            "cells": {
             "fill": {
              "color": "#EBF0F8"
             },
             "line": {
              "color": "white"
             }
            },
            "header": {
             "fill": {
              "color": "#C8D4E3"
             },
             "line": {
              "color": "white"
             }
            },
            "type": "table"
           }
          ]
         },
         "layout": {
          "annotationdefaults": {
           "arrowcolor": "#2a3f5f",
           "arrowhead": 0,
           "arrowwidth": 1
          },
          "autotypenumbers": "strict",
          "coloraxis": {
           "colorbar": {
            "outlinewidth": 0,
            "ticks": ""
           }
          },
          "colorscale": {
           "diverging": [
            [
             0,
             "#8e0152"
            ],
            [
             0.1,
             "#c51b7d"
            ],
            [
             0.2,
             "#de77ae"
            ],
            [
             0.3,
             "#f1b6da"
            ],
            [
             0.4,
             "#fde0ef"
            ],
            [
             0.5,
             "#f7f7f7"
            ],
            [
             0.6,
             "#e6f5d0"
            ],
            [
             0.7,
             "#b8e186"
            ],
            [
             0.8,
             "#7fbc41"
            ],
            [
             0.9,
             "#4d9221"
            ],
            [
             1,
             "#276419"
            ]
           ],
           "sequential": [
            [
             0,
             "#0d0887"
            ],
            [
             0.1111111111111111,
             "#46039f"
            ],
            [
             0.2222222222222222,
             "#7201a8"
            ],
            [
             0.3333333333333333,
             "#9c179e"
            ],
            [
             0.4444444444444444,
             "#bd3786"
            ],
            [
             0.5555555555555556,
             "#d8576b"
            ],
            [
             0.6666666666666666,
             "#ed7953"
            ],
            [
             0.7777777777777778,
             "#fb9f3a"
            ],
            [
             0.8888888888888888,
             "#fdca26"
            ],
            [
             1,
             "#f0f921"
            ]
           ],
           "sequentialminus": [
            [
             0,
             "#0d0887"
            ],
            [
             0.1111111111111111,
             "#46039f"
            ],
            [
             0.2222222222222222,
             "#7201a8"
            ],
            [
             0.3333333333333333,
             "#9c179e"
            ],
            [
             0.4444444444444444,
             "#bd3786"
            ],
            [
             0.5555555555555556,
             "#d8576b"
            ],
            [
             0.6666666666666666,
             "#ed7953"
            ],
            [
             0.7777777777777778,
             "#fb9f3a"
            ],
            [
             0.8888888888888888,
             "#fdca26"
            ],
            [
             1,
             "#f0f921"
            ]
           ]
          },
          "colorway": [
           "#636efa",
           "#EF553B",
           "#00cc96",
           "#ab63fa",
           "#FFA15A",
           "#19d3f3",
           "#FF6692",
           "#B6E880",
           "#FF97FF",
           "#FECB52"
          ],
          "font": {
           "color": "#2a3f5f"
          },
          "geo": {
           "bgcolor": "white",
           "lakecolor": "white",
           "landcolor": "#E5ECF6",
           "showlakes": true,
           "showland": true,
           "subunitcolor": "white"
          },
          "hoverlabel": {
           "align": "left"
          },
          "hovermode": "closest",
          "mapbox": {
           "style": "light"
          },
          "paper_bgcolor": "white",
          "plot_bgcolor": "#E5ECF6",
          "polar": {
           "angularaxis": {
            "gridcolor": "white",
            "linecolor": "white",
            "ticks": ""
           },
           "bgcolor": "#E5ECF6",
           "radialaxis": {
            "gridcolor": "white",
            "linecolor": "white",
            "ticks": ""
           }
          },
          "scene": {
           "xaxis": {
            "backgroundcolor": "#E5ECF6",
            "gridcolor": "white",
            "gridwidth": 2,
            "linecolor": "white",
            "showbackground": true,
            "ticks": "",
            "zerolinecolor": "white"
           },
           "yaxis": {
            "backgroundcolor": "#E5ECF6",
            "gridcolor": "white",
            "gridwidth": 2,
            "linecolor": "white",
            "showbackground": true,
            "ticks": "",
            "zerolinecolor": "white"
           },
           "zaxis": {
            "backgroundcolor": "#E5ECF6",
            "gridcolor": "white",
            "gridwidth": 2,
            "linecolor": "white",
            "showbackground": true,
            "ticks": "",
            "zerolinecolor": "white"
           }
          },
          "shapedefaults": {
           "line": {
            "color": "#2a3f5f"
           }
          },
          "ternary": {
           "aaxis": {
            "gridcolor": "white",
            "linecolor": "white",
            "ticks": ""
           },
           "baxis": {
            "gridcolor": "white",
            "linecolor": "white",
            "ticks": ""
           },
           "bgcolor": "#E5ECF6",
           "caxis": {
            "gridcolor": "white",
            "linecolor": "white",
            "ticks": ""
           }
          },
          "title": {
           "x": 0.05
          },
          "xaxis": {
           "automargin": true,
           "gridcolor": "white",
           "linecolor": "white",
           "ticks": "",
           "title": {
            "standoff": 15
           },
           "zerolinecolor": "white",
           "zerolinewidth": 2
          },
          "yaxis": {
           "automargin": true,
           "gridcolor": "white",
           "linecolor": "white",
           "ticks": "",
           "title": {
            "standoff": 15
           },
           "zerolinecolor": "white",
           "zerolinewidth": 2
          }
         }
        },
        "title": {
         "text": "Remittance Trend (Last 12 Months Ending Feb_23)"
        },
        "width": 900,
        "xaxis": {
         "title": {
          "text": "Month"
         }
        },
        "yaxis": {
         "title": {
          "text": "Remittance Amount (Log Scale)"
         },
         "type": "log"
        }
       }
      }
     },
     "metadata": {},
     "output_type": "display_data"
    }
   ],
   "source": [
    "import pandas as pd\n",
    "import plotly.graph_objects as go\n",
    "\n",
    "# Load your data (already loaded as df)\n",
    "# Example: df = pd.read_csv(\"your_data.csv\")\n",
    "\n",
    "# Set current month\n",
    "current_month = \"Feb_23\"\n",
    "\n",
    "# Extract month columns (exclude non-month columns)\n",
    "non_month_cols = [\"Region/Country\"]\n",
    "month_cols = [col for col in df.columns if col not in non_month_cols]\n",
    "\n",
    "# Ensure current_month is valid\n",
    "if current_month not in month_cols:\n",
    "    raise ValueError(f\"{current_month} not found in columns\")\n",
    "\n",
    "# Get last 12 months including the current_month (assumes already sorted)\n",
    "current_index = month_cols.index(current_month)\n",
    "if current_index < 11:\n",
    "    raise ValueError(\"Not enough months before current month to extract 12-month window\")\n",
    "\n",
    "last_12_months = month_cols[current_index - 11 : current_index + 1]\n",
    "\n",
    "# Calculate total remittance in the window\n",
    "df[\"Total_12_Months\"] = df[last_12_months].sum(axis=1)\n",
    "\n",
    "# Get top 5 countries\n",
    "top_5 = df.sort_values(\"Total_12_Months\", ascending=False).head(5)\n",
    "\n",
    "# Create figure\n",
    "fig = go.Figure()\n",
    "\n",
    "\n",
    "# Add U.S.A. line (if exists)\n",
    "usa_rows = df[df[\"Region/Country\"] == \"U.S.A\"]\n",
    "if not usa_rows.empty:\n",
    "    usa_data = usa_rows.iloc[0]\n",
    "    fig.add_trace(go.Scatter(\n",
    "        x=last_12_months,\n",
    "        y=usa_data[last_12_months],\n",
    "        mode=\"lines+markers\",\n",
    "        name=\"U.S.A\",\n",
    "        line=dict(dash=\"dash\", color=\"black\", width=3),\n",
    "        marker=dict(symbol=\"circle\", size=6)\n",
    "    ))\n",
    "\n",
    "# Add top 5 countries (skip U.S.A if already plotted)\n",
    "for _, row in top_5.iterrows():\n",
    "    country = row[\"Region/Country\"]\n",
    "    if country == \"U.S.A\":\n",
    "        continue\n",
    "    fig.add_trace(go.Scatter(\n",
    "        x=last_12_months,\n",
    "        y=row[last_12_months],\n",
    "        mode=\"lines+markers\",\n",
    "        name=country\n",
    "    ))\n",
    "\n",
    "# Customize layout\n",
    "fig.update_layout(\n",
    "    title=f\"Remittance Trend (Last 12 Months Ending {current_month})\",\n",
    "    xaxis_title=\"Month\",\n",
    "    yaxis_title=\"Remittance Amount\",\n",
    "    legend_title=\"Region/Country\",\n",
    "    height=600,\n",
    "    width=900\n",
    ")\n",
    "# i learned about this today and it very powerfull\n",
    "fig.update_yaxes(type=\"log\", title=\"Remittance Amount (Log Scale)\")\n",
    "\n",
    "\n",
    "fig.show()\n"
   ]
  },
  {
   "cell_type": "code",
   "execution_count": 32,
   "id": "57e45df6",
   "metadata": {},
   "outputs": [
    {
     "data": {
      "text/html": [
       "<div>\n",
       "<style scoped>\n",
       "    .dataframe tbody tr th:only-of-type {\n",
       "        vertical-align: middle;\n",
       "    }\n",
       "\n",
       "    .dataframe tbody tr th {\n",
       "        vertical-align: top;\n",
       "    }\n",
       "\n",
       "    .dataframe thead th {\n",
       "        text-align: right;\n",
       "    }\n",
       "</style>\n",
       "<table border=\"1\" class=\"dataframe\">\n",
       "  <thead>\n",
       "    <tr style=\"text-align: right;\">\n",
       "      <th></th>\n",
       "      <th>Region/Country</th>\n",
       "      <th>Jan_20</th>\n",
       "      <th>Feb_20</th>\n",
       "      <th>Mar_20</th>\n",
       "      <th>Apr_20</th>\n",
       "      <th>May_20</th>\n",
       "      <th>Jun_20</th>\n",
       "      <th>Jul_20</th>\n",
       "      <th>Aug_20</th>\n",
       "      <th>Sep_20</th>\n",
       "      <th>...</th>\n",
       "      <th>Oct_24</th>\n",
       "      <th>Nov_24</th>\n",
       "      <th>Dec_24</th>\n",
       "      <th>Jan_25</th>\n",
       "      <th>Feb_25</th>\n",
       "      <th>Mar_25</th>\n",
       "      <th>Apr_25</th>\n",
       "      <th>Difference</th>\n",
       "      <th>Total_Last6</th>\n",
       "      <th>Total_12_Months</th>\n",
       "    </tr>\n",
       "  </thead>\n",
       "  <tbody>\n",
       "    <tr>\n",
       "      <th>0</th>\n",
       "      <td>U.S.A</td>\n",
       "      <td>116995.24</td>\n",
       "      <td>105295.76</td>\n",
       "      <td>118274.29853</td>\n",
       "      <td>118681.16</td>\n",
       "      <td>139986.39</td>\n",
       "      <td>142623.41</td>\n",
       "      <td>135880.90</td>\n",
       "      <td>155515.70</td>\n",
       "      <td>155714.0094</td>\n",
       "      <td>...</td>\n",
       "      <td>234680.466143</td>\n",
       "      <td>225999.395803</td>\n",
       "      <td>231292.303217</td>\n",
       "      <td>227502.646639</td>\n",
       "      <td>202244.544226</td>\n",
       "      <td>222725.939387</td>\n",
       "      <td>235891.383369</td>\n",
       "      <td>21116.330246</td>\n",
       "      <td>1.155913e+06</td>\n",
       "      <td>2.325488e+06</td>\n",
       "    </tr>\n",
       "    <tr>\n",
       "      <th>1</th>\n",
       "      <td>Canada</td>\n",
       "      <td>3393.74</td>\n",
       "      <td>2893.70</td>\n",
       "      <td>2663.70411</td>\n",
       "      <td>3287.35</td>\n",
       "      <td>4242.15</td>\n",
       "      <td>4049.55</td>\n",
       "      <td>4823.25</td>\n",
       "      <td>3700.75</td>\n",
       "      <td>8444.3400</td>\n",
       "      <td>...</td>\n",
       "      <td>12113.340206</td>\n",
       "      <td>13023.192993</td>\n",
       "      <td>12380.172400</td>\n",
       "      <td>12935.612101</td>\n",
       "      <td>11634.557040</td>\n",
       "      <td>13658.727087</td>\n",
       "      <td>14181.096989</td>\n",
       "      <td>1182.472088</td>\n",
       "      <td>3.724276e+04</td>\n",
       "      <td>8.022994e+04</td>\n",
       "    </tr>\n",
       "    <tr>\n",
       "      <th>2</th>\n",
       "      <td>Bahamas</td>\n",
       "      <td>539.73</td>\n",
       "      <td>421.88</td>\n",
       "      <td>424.68000</td>\n",
       "      <td>0.00</td>\n",
       "      <td>36.89</td>\n",
       "      <td>56.20</td>\n",
       "      <td>75.96</td>\n",
       "      <td>4.22</td>\n",
       "      <td>8.7200</td>\n",
       "      <td>...</td>\n",
       "      <td>57.648672</td>\n",
       "      <td>311.345020</td>\n",
       "      <td>167.577619</td>\n",
       "      <td>218.694172</td>\n",
       "      <td>37.075016</td>\n",
       "      <td>66.271217</td>\n",
       "      <td>182.165617</td>\n",
       "      <td>-4.568003</td>\n",
       "      <td>3.321734e+02</td>\n",
       "      <td>6.295118e+02</td>\n",
       "    </tr>\n",
       "    <tr>\n",
       "      <th>3</th>\n",
       "      <td>United Kingdom</td>\n",
       "      <td>21190.00</td>\n",
       "      <td>17567.83</td>\n",
       "      <td>18778.69654</td>\n",
       "      <td>16191.04</td>\n",
       "      <td>18911.83</td>\n",
       "      <td>19120.09</td>\n",
       "      <td>22901.20</td>\n",
       "      <td>20640.05</td>\n",
       "      <td>16412.6800</td>\n",
       "      <td>...</td>\n",
       "      <td>28537.906464</td>\n",
       "      <td>29281.072794</td>\n",
       "      <td>29223.757179</td>\n",
       "      <td>25318.709148</td>\n",
       "      <td>25734.620536</td>\n",
       "      <td>27357.190860</td>\n",
       "      <td>26608.281524</td>\n",
       "      <td>-3161.611133</td>\n",
       "      <td>1.689978e+05</td>\n",
       "      <td>3.297414e+05</td>\n",
       "    </tr>\n",
       "    <tr>\n",
       "      <th>4</th>\n",
       "      <td>Germany</td>\n",
       "      <td>6963.54</td>\n",
       "      <td>6156.28</td>\n",
       "      <td>6774.23513</td>\n",
       "      <td>6246.75</td>\n",
       "      <td>6960.64</td>\n",
       "      <td>7308.30</td>\n",
       "      <td>7579.67</td>\n",
       "      <td>7210.99</td>\n",
       "      <td>6607.1800</td>\n",
       "      <td>...</td>\n",
       "      <td>15967.945051</td>\n",
       "      <td>15534.639676</td>\n",
       "      <td>15835.925065</td>\n",
       "      <td>15705.559737</td>\n",
       "      <td>14812.644306</td>\n",
       "      <td>16006.266780</td>\n",
       "      <td>16373.069494</td>\n",
       "      <td>-175.953975</td>\n",
       "      <td>7.191814e+04</td>\n",
       "      <td>1.349443e+05</td>\n",
       "    </tr>\n",
       "  </tbody>\n",
       "</table>\n",
       "<p>5 rows × 68 columns</p>\n",
       "</div>"
      ],
      "text/plain": [
       "        Region/Country     Jan_20     Feb_20        Mar_20     Apr_20  \\\n",
       "0                U.S.A  116995.24  105295.76  118274.29853  118681.16   \n",
       "1               Canada    3393.74    2893.70    2663.70411    3287.35   \n",
       "2              Bahamas     539.73     421.88     424.68000       0.00   \n",
       "3       United Kingdom   21190.00   17567.83   18778.69654   16191.04   \n",
       "4              Germany    6963.54    6156.28    6774.23513    6246.75   \n",
       "\n",
       "      May_20     Jun_20     Jul_20     Aug_20       Sep_20  ...  \\\n",
       "0  139986.39  142623.41  135880.90  155515.70  155714.0094  ...   \n",
       "1    4242.15    4049.55    4823.25    3700.75    8444.3400  ...   \n",
       "2      36.89      56.20      75.96       4.22       8.7200  ...   \n",
       "3   18911.83   19120.09   22901.20   20640.05   16412.6800  ...   \n",
       "4    6960.64    7308.30    7579.67    7210.99    6607.1800  ...   \n",
       "\n",
       "          Oct_24         Nov_24         Dec_24         Jan_25         Feb_25  \\\n",
       "0  234680.466143  225999.395803  231292.303217  227502.646639  202244.544226   \n",
       "1   12113.340206   13023.192993   12380.172400   12935.612101   11634.557040   \n",
       "2      57.648672     311.345020     167.577619     218.694172      37.075016   \n",
       "3   28537.906464   29281.072794   29223.757179   25318.709148   25734.620536   \n",
       "4   15967.945051   15534.639676   15835.925065   15705.559737   14812.644306   \n",
       "\n",
       "          Mar_25         Apr_25    Difference   Total_Last6  Total_12_Months  \n",
       "0  222725.939387  235891.383369  21116.330246  1.155913e+06     2.325488e+06  \n",
       "1   13658.727087   14181.096989   1182.472088  3.724276e+04     8.022994e+04  \n",
       "2      66.271217     182.165617     -4.568003  3.321734e+02     6.295118e+02  \n",
       "3   27357.190860   26608.281524  -3161.611133  1.689978e+05     3.297414e+05  \n",
       "4   16006.266780   16373.069494   -175.953975  7.191814e+04     1.349443e+05  \n",
       "\n",
       "[5 rows x 68 columns]"
      ]
     },
     "execution_count": 32,
     "metadata": {},
     "output_type": "execute_result"
    }
   ],
   "source": [
    "df.head()"
   ]
  }
 ],
 "metadata": {
  "kernelspec": {
   "display_name": "base",
   "language": "python",
   "name": "python3"
  },
  "language_info": {
   "codemirror_mode": {
    "name": "ipython",
    "version": 3
   },
   "file_extension": ".py",
   "mimetype": "text/x-python",
   "name": "python",
   "nbconvert_exporter": "python",
   "pygments_lexer": "ipython3",
   "version": "3.13.5"
  }
 },
 "nbformat": 4,
 "nbformat_minor": 5
}
